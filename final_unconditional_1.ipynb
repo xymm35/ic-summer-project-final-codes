{
 "cells": [
  {
   "cell_type": "code",
   "execution_count": 1,
   "id": "401ebebc",
   "metadata": {},
   "outputs": [],
   "source": [
    "import os\n",
    "os.environ['CUDA_VISIBLE_DEVICES']='0'"
   ]
  },
  {
   "cell_type": "code",
   "execution_count": 2,
   "id": "5029c1c9",
   "metadata": {},
   "outputs": [],
   "source": [
    "import torch\n",
    "import torch.nn as nn\n",
    "import torch.nn.functional as F\n",
    "import numpy as np\n",
    "import pandas as pd\n",
    "\n",
    "import matplotlib\n",
    "import matplotlib.pyplot as plt\n",
    "from matplotlib import style\n",
    "\n",
    "import tqdm\n",
    "from torch.optim import Adam"
   ]
  },
  {
   "cell_type": "code",
   "execution_count": 3,
   "id": "b3c8221c",
   "metadata": {},
   "outputs": [],
   "source": [
    "class ScoreNet(nn.Module):\n",
    "    def __init__(self, shape_x, shape_t, embed_dim):\n",
    "        #marginal_prob_std: A function that takes time t and gives the standard deviation of the perturbation kernel p_{0t}(x(t) | x(0)).\n",
    "        #mapping_size: The output dimensionality of Gaussian random feature embeddings.\n",
    "\n",
    "        super().__init__()\n",
    "        self.shape_x = shape_x\n",
    "        self.shape_t = shape_t\n",
    "        self.embed_dim = embed_dim\n",
    "        \n",
    "        #layers:\n",
    "        self.dense1 = nn.Linear(self.shape_t+1, self.embed_dim)\n",
    "        self.dense11 = nn.Linear(self.embed_dim, 1)\n",
    "        \n",
    "        self.relu1 = nn.ReLU()\n",
    "        self.relu2 = nn.ReLU()\n",
    "        \n",
    "        #self.act = lambda x: x * torch.sigmoid(x)\n",
    "\n",
    "    def forward(self, x, t):\n",
    "        #encoding for t\n",
    "        tt = t.repeat(self.shape_x,1)[:,None]\n",
    "        embed = torch.cat([x,tt],dim=-1)\n",
    "               \n",
    "        h = self.dense1(embed)\n",
    "        h = self.relu1(h)\n",
    "        h = self.relu2(h) \n",
    "        h = self.dense11(h)\n",
    "\n",
    "        \n",
    "        return h"
   ]
  },
  {
   "cell_type": "code",
   "execution_count": 4,
   "id": "24a4b2b0",
   "metadata": {},
   "outputs": [],
   "source": [
    "device = 'cuda'"
   ]
  },
  {
   "cell_type": "code",
   "execution_count": 5,
   "id": "8e9c1e99",
   "metadata": {},
   "outputs": [],
   "source": [
    "def marginal_prob_std(t, sigma):\n",
    "    \n",
    "    t = torch.tensor(t, device = device)\n",
    "    \n",
    "    return torch.sqrt((sigma ** (2*t)-1) / (2 * np.log(sigma)))"
   ]
  },
  {
   "cell_type": "code",
   "execution_count": 6,
   "id": "3c3fe0c6",
   "metadata": {},
   "outputs": [],
   "source": [
    "def diffusion_coeff(t, sigma):\n",
    "    return torch.tensor(sigma**t, device = device)"
   ]
  },
  {
   "cell_type": "code",
   "execution_count": 7,
   "id": "d45b0d27",
   "metadata": {},
   "outputs": [],
   "source": [
    "s =  100 #should be large enough\n",
    "\n",
    "marginal_prob_std_fn = lambda t: marginal_prob_std(t, sigma=s)\n",
    "diffusion_coeff_fn = lambda t: diffusion_coeff(t, sigma=s)"
   ]
  },
  {
   "cell_type": "code",
   "execution_count": 8,
   "id": "bdc79f33",
   "metadata": {},
   "outputs": [],
   "source": [
    "def loss_fn(model, x, marginal_prob_std, eps=1e-5):\n",
    "    random_t = torch.rand(x.shape[0], device = device) * (1. - eps) + eps  \n",
    "    z = torch.randn_like(x)\n",
    "    std = marginal_prob_std(random_t)\n",
    "    perturbed_x = x + z * std[:, None, None]\n",
    "    score = model(perturbed_x, random_t)\n",
    "    loss = torch.mean(torch.sum((score * std[:, None, None] + z)**2, dim=(1,2)))\n",
    "    return loss"
   ]
  },
  {
   "cell_type": "code",
   "execution_count": 9,
   "id": "ac93f1ac",
   "metadata": {},
   "outputs": [],
   "source": [
    "x_train = torch.randn(20,500,1,1).cuda()"
   ]
  },
  {
   "cell_type": "code",
   "execution_count": 10,
   "id": "5696c874",
   "metadata": {},
   "outputs": [],
   "source": [
    "score_model_mlp= ScoreNet(shape_x=x_train[1].shape[0], shape_t=x_train[1].shape[0], embed_dim=50)\n",
    "score_model_mlp = score_model_mlp.cuda()"
   ]
  },
  {
   "cell_type": "code",
   "execution_count": 11,
   "id": "6057366d",
   "metadata": {},
   "outputs": [
    {
     "data": {
      "application/vnd.jupyter.widget-view+json": {
       "model_id": "15801dd4cf4f4c69a91b71fc767aa356",
       "version_major": 2,
       "version_minor": 0
      },
      "text/plain": [
       "  0%|          | 0/3000 [00:00<?, ?it/s]"
      ]
     },
     "metadata": {},
     "output_type": "display_data"
    },
    {
     "name": "stderr",
     "output_type": "stream",
     "text": [
      "C:\\Users\\dedaoyan\\AppData\\Local\\Temp\\ipykernel_4712\\1117097296.py:3: UserWarning: To copy construct from a tensor, it is recommended to use sourceTensor.clone().detach() or sourceTensor.clone().detach().requires_grad_(True), rather than torch.tensor(sourceTensor).\n",
      "  t = torch.tensor(t, device = device)\n"
     ]
    },
    {
     "name": "stdout",
     "output_type": "stream",
     "text": [
      "epoch_number: 0, current_loss: 59.50922358036041, best_loss: 1000000\n",
      "epoch_number: 5, current_loss: 22.091398119926453, best_loss: 0.002278392481803894\n",
      "epoch_number: 10, current_loss: 19.796492397785187, best_loss: 0.002186276376247406\n",
      "epoch_number: 15, current_loss: 20.855084121227264, best_loss: 0.0019796492397785186\n",
      "epoch_number: 20, current_loss: 21.501051485538483, best_loss: 0.0018571357369422913\n",
      "epoch_number: 25, current_loss: 22.31852078437805, best_loss: 0.0018336321234703064\n",
      "epoch_number: 30, current_loss: 17.701298236846924, best_loss: 0.0018336321234703064\n",
      "epoch_number: 35, current_loss: 23.718324959278107, best_loss: 0.0017701298236846923\n",
      "epoch_number: 40, current_loss: 18.659698724746704, best_loss: 0.0017701298236846923\n",
      "epoch_number: 45, current_loss: 19.43345695734024, best_loss: 0.0016934814155101776\n",
      "epoch_number: 50, current_loss: 19.92027860879898, best_loss: 0.001678811329603195\n",
      "epoch_number: 55, current_loss: 17.816927909851074, best_loss: 0.001678811329603195\n",
      "epoch_number: 60, current_loss: 17.238799333572388, best_loss: 0.001678811329603195\n",
      "epoch_number: 65, current_loss: 18.000530242919922, best_loss: 0.001678811329603195\n",
      "epoch_number: 70, current_loss: 17.452411830425262, best_loss: 0.001678811329603195\n",
      "epoch_number: 75, current_loss: 16.681403875350952, best_loss: 0.001678811329603195\n",
      "epoch_number: 80, current_loss: 17.15170830488205, best_loss: 0.0016681403875350952\n",
      "epoch_number: 85, current_loss: 16.80529808998108, best_loss: 0.0016681403875350952\n",
      "epoch_number: 90, current_loss: 16.59550642967224, best_loss: 0.001614072060585022\n",
      "epoch_number: 95, current_loss: 15.725754916667938, best_loss: 0.001614072060585022\n",
      "epoch_number: 100, current_loss: 18.406671106815338, best_loss: 0.0015725754916667938\n",
      "epoch_number: 105, current_loss: 17.18431442975998, best_loss: 0.0015689337491989136\n",
      "epoch_number: 110, current_loss: 16.20266544818878, best_loss: 0.0015689337491989136\n",
      "epoch_number: 115, current_loss: 16.532488465309143, best_loss: 0.0015689337491989136\n",
      "epoch_number: 120, current_loss: 17.27038997411728, best_loss: 0.001568694794178009\n",
      "epoch_number: 125, current_loss: 15.925525188446045, best_loss: 0.001568694794178009\n",
      "epoch_number: 130, current_loss: 15.655286729335785, best_loss: 0.001568694794178009\n",
      "epoch_number: 135, current_loss: 16.17634528875351, best_loss: 0.0015596472799777985\n",
      "epoch_number: 140, current_loss: 15.711530923843384, best_loss: 0.0015513670325279236\n",
      "epoch_number: 145, current_loss: 15.7073033452034, best_loss: 0.0015513670325279236\n",
      "epoch_number: 150, current_loss: 16.11611694097519, best_loss: 0.0015513670325279236\n",
      "epoch_number: 155, current_loss: 15.340138673782349, best_loss: 0.0015377727329730988\n",
      "epoch_number: 160, current_loss: 16.657457172870636, best_loss: 0.0015340138673782349\n",
      "epoch_number: 165, current_loss: 15.398426473140717, best_loss: 0.0015340138673782349\n",
      "epoch_number: 170, current_loss: 15.255876660346985, best_loss: 0.0015093777239322662\n",
      "epoch_number: 175, current_loss: 15.966271042823792, best_loss: 0.0015093777239322662\n",
      "epoch_number: 180, current_loss: 15.117539286613464, best_loss: 0.0015093777239322662\n",
      "epoch_number: 185, current_loss: 15.121907234191895, best_loss: 0.0015093777239322662\n",
      "epoch_number: 190, current_loss: 14.94400554895401, best_loss: 0.0014946776568889619\n",
      "epoch_number: 195, current_loss: 15.370314598083496, best_loss: 0.001494400554895401\n",
      "epoch_number: 200, current_loss: 15.532553553581238, best_loss: 0.001494400554895401\n",
      "epoch_number: 205, current_loss: 14.98260486125946, best_loss: 0.001494400554895401\n",
      "epoch_number: 210, current_loss: 15.3076531291008, best_loss: 0.001494400554895401\n",
      "epoch_number: 215, current_loss: 15.19517970085144, best_loss: 0.001494400554895401\n",
      "epoch_number: 220, current_loss: 15.45950996875763, best_loss: 0.0014840156853199004\n",
      "epoch_number: 225, current_loss: 14.736494064331055, best_loss: 0.0014840156853199004\n",
      "epoch_number: 230, current_loss: 14.966505825519562, best_loss: 0.0014736494064331055\n",
      "epoch_number: 235, current_loss: 14.88572084903717, best_loss: 0.0014736494064331055\n",
      "epoch_number: 240, current_loss: 14.668333947658539, best_loss: 0.0014736494064331055\n",
      "epoch_number: 245, current_loss: 15.696071445941925, best_loss: 0.001466833394765854\n",
      "epoch_number: 250, current_loss: 15.118076503276825, best_loss: 0.0014577269554138183\n",
      "epoch_number: 255, current_loss: 15.336990118026733, best_loss: 0.0014577269554138183\n",
      "epoch_number: 260, current_loss: 15.039106607437134, best_loss: 0.0014577269554138183\n",
      "epoch_number: 265, current_loss: 14.844471633434296, best_loss: 0.0014577269554138183\n",
      "epoch_number: 270, current_loss: 15.071562707424164, best_loss: 0.0014507894217967987\n",
      "epoch_number: 275, current_loss: 14.882278501987457, best_loss: 0.0014507894217967987\n",
      "epoch_number: 280, current_loss: 14.82683801651001, best_loss: 0.0014507894217967987\n",
      "epoch_number: 285, current_loss: 14.597643256187439, best_loss: 0.0014507894217967987\n",
      "epoch_number: 290, current_loss: 14.429638803005219, best_loss: 0.0014507894217967987\n",
      "epoch_number: 295, current_loss: 14.673566222190857, best_loss: 0.001442963880300522\n",
      "epoch_number: 300, current_loss: 15.151434183120728, best_loss: 0.001442963880300522\n",
      "epoch_number: 305, current_loss: 14.558850049972534, best_loss: 0.001442963880300522\n",
      "epoch_number: 310, current_loss: 14.788590848445892, best_loss: 0.001442963880300522\n",
      "epoch_number: 315, current_loss: 15.171497881412506, best_loss: 0.001442963880300522\n",
      "epoch_number: 320, current_loss: 15.041929185390472, best_loss: 0.001442963880300522\n",
      "epoch_number: 325, current_loss: 14.838831663131714, best_loss: 0.001442963880300522\n",
      "epoch_number: 330, current_loss: 14.893906354904175, best_loss: 0.0014412885248661041\n",
      "epoch_number: 335, current_loss: 15.168042659759521, best_loss: 0.0014412885248661041\n",
      "epoch_number: 340, current_loss: 15.180251836776733, best_loss: 0.001428313308954239\n",
      "epoch_number: 345, current_loss: 15.348134696483612, best_loss: 0.001428313308954239\n",
      "epoch_number: 350, current_loss: 14.890920341014862, best_loss: 0.001428313308954239\n",
      "epoch_number: 355, current_loss: 14.991902112960815, best_loss: 0.001428313308954239\n",
      "epoch_number: 360, current_loss: 14.868009626865387, best_loss: 0.001428313308954239\n",
      "epoch_number: 365, current_loss: 15.234232306480408, best_loss: 0.001428313308954239\n",
      "epoch_number: 370, current_loss: 14.476681888103485, best_loss: 0.001428313308954239\n",
      "epoch_number: 375, current_loss: 14.804530620574951, best_loss: 0.001428313308954239\n",
      "epoch_number: 380, current_loss: 14.651610970497131, best_loss: 0.001428313308954239\n",
      "epoch_number: 385, current_loss: 14.688297986984253, best_loss: 0.001428313308954239\n",
      "epoch_number: 390, current_loss: 14.424665093421936, best_loss: 0.001428313308954239\n",
      "epoch_number: 395, current_loss: 15.173548817634583, best_loss: 0.0014147850334644317\n",
      "epoch_number: 400, current_loss: 14.567466974258423, best_loss: 0.0014147850334644317\n",
      "epoch_number: 405, current_loss: 14.720666289329529, best_loss: 0.0014147850334644317\n",
      "epoch_number: 410, current_loss: 14.909522831439972, best_loss: 0.0014147850334644317\n",
      "epoch_number: 415, current_loss: 15.249799251556396, best_loss: 0.0014147850334644317\n",
      "epoch_number: 420, current_loss: 14.860718131065369, best_loss: 0.0014147850334644317\n",
      "epoch_number: 425, current_loss: 14.843693792819977, best_loss: 0.0014147850334644317\n",
      "epoch_number: 430, current_loss: 14.76294618844986, best_loss: 0.0014147850334644317\n",
      "epoch_number: 435, current_loss: 14.935340821743011, best_loss: 0.0014147850334644317\n",
      "epoch_number: 440, current_loss: 14.635047137737274, best_loss: 0.0014147850334644317\n",
      "epoch_number: 445, current_loss: 14.106647610664368, best_loss: 0.0014147850334644317\n",
      "epoch_number: 450, current_loss: 14.377220213413239, best_loss: 0.0014106647610664367\n",
      "epoch_number: 455, current_loss: 14.868562936782837, best_loss: 0.0014106647610664367\n",
      "epoch_number: 460, current_loss: 14.461994111537933, best_loss: 0.0014106647610664367\n",
      "epoch_number: 465, current_loss: 14.805975139141083, best_loss: 0.0014106647610664367\n",
      "epoch_number: 470, current_loss: 15.141142547130585, best_loss: 0.0014106647610664367\n",
      "epoch_number: 475, current_loss: 15.168173134326935, best_loss: 0.0014106647610664367\n",
      "epoch_number: 480, current_loss: 14.54835957288742, best_loss: 0.0014106647610664367\n",
      "epoch_number: 485, current_loss: 14.889504432678223, best_loss: 0.0014106647610664367\n",
      "epoch_number: 490, current_loss: 14.790366411209106, best_loss: 0.0014106647610664367\n",
      "epoch_number: 495, current_loss: 14.689341962337494, best_loss: 0.0014106647610664367\n",
      "epoch_number: 500, current_loss: 14.86618560552597, best_loss: 0.0014106647610664367\n",
      "epoch_number: 505, current_loss: 14.903014540672302, best_loss: 0.0014106647610664367\n",
      "epoch_number: 510, current_loss: 14.789272546768188, best_loss: 0.0014106647610664367\n",
      "epoch_number: 515, current_loss: 14.995104849338531, best_loss: 0.0014106647610664367\n",
      "epoch_number: 520, current_loss: 14.62144285440445, best_loss: 0.0014106647610664367\n",
      "epoch_number: 525, current_loss: 14.841180145740509, best_loss: 0.0014106647610664367\n",
      "epoch_number: 530, current_loss: 14.691622495651245, best_loss: 0.0014106647610664367\n",
      "epoch_number: 535, current_loss: 14.899896204471588, best_loss: 0.0014106647610664367\n",
      "epoch_number: 540, current_loss: 14.46580296754837, best_loss: 0.0014106647610664367\n",
      "epoch_number: 545, current_loss: 14.974303483963013, best_loss: 0.0014106647610664367\n",
      "epoch_number: 550, current_loss: 14.67774909734726, best_loss: 0.0014106647610664367\n",
      "epoch_number: 555, current_loss: 14.589798986911774, best_loss: 0.0014106647610664367\n",
      "epoch_number: 560, current_loss: 14.500244200229645, best_loss: 0.0014106647610664367\n",
      "epoch_number: 565, current_loss: 14.652511060237885, best_loss: 0.0014106647610664367\n",
      "epoch_number: 570, current_loss: 14.832578003406525, best_loss: 0.0014106647610664367\n",
      "epoch_number: 575, current_loss: 14.730680167675018, best_loss: 0.0014106647610664367\n",
      "epoch_number: 580, current_loss: 14.212178111076355, best_loss: 0.0014106647610664367\n",
      "epoch_number: 585, current_loss: 14.565916955471039, best_loss: 0.0014106647610664367\n",
      "epoch_number: 590, current_loss: 14.485872387886047, best_loss: 0.0014106647610664367\n",
      "epoch_number: 595, current_loss: 14.660283148288727, best_loss: 0.0014106647610664367\n",
      "epoch_number: 600, current_loss: 14.732683837413788, best_loss: 0.0014106647610664367\n",
      "epoch_number: 605, current_loss: 14.418924450874329, best_loss: 0.0014106647610664367\n",
      "epoch_number: 610, current_loss: 14.707199513912201, best_loss: 0.0014106647610664367\n",
      "epoch_number: 615, current_loss: 14.497321724891663, best_loss: 0.0014106647610664367\n",
      "epoch_number: 620, current_loss: 14.828767716884613, best_loss: 0.0014106647610664367\n",
      "epoch_number: 625, current_loss: 14.760286688804626, best_loss: 0.0014106647610664367\n",
      "epoch_number: 630, current_loss: 14.650182127952576, best_loss: 0.0014106647610664367\n",
      "epoch_number: 635, current_loss: 15.142641961574554, best_loss: 0.0014106647610664367\n",
      "epoch_number: 640, current_loss: 14.702868223190308, best_loss: 0.0014106647610664367\n",
      "epoch_number: 645, current_loss: 14.698927342891693, best_loss: 0.0014106647610664367\n",
      "epoch_number: 650, current_loss: 15.108575284481049, best_loss: 0.0014106647610664367\n",
      "epoch_number: 655, current_loss: 14.876984715461731, best_loss: 0.0014106647610664367\n",
      "epoch_number: 660, current_loss: 14.371622025966644, best_loss: 0.0014106647610664367\n",
      "epoch_number: 665, current_loss: 14.292592525482178, best_loss: 0.0014106647610664367\n",
      "epoch_number: 670, current_loss: 14.744907140731812, best_loss: 0.0014106647610664367\n",
      "epoch_number: 675, current_loss: 14.667818665504456, best_loss: 0.0014106647610664367\n",
      "epoch_number: 680, current_loss: 15.130214273929596, best_loss: 0.0014106647610664367\n",
      "epoch_number: 685, current_loss: 14.437444925308228, best_loss: 0.0014106647610664367\n",
      "epoch_number: 690, current_loss: 14.78965950012207, best_loss: 0.0014106647610664367\n",
      "epoch_number: 695, current_loss: 14.913728296756744, best_loss: 0.0014106647610664367\n",
      "epoch_number: 700, current_loss: 14.697358548641205, best_loss: 0.0014106647610664367\n",
      "epoch_number: 705, current_loss: 14.746595680713654, best_loss: 0.0014106647610664367\n",
      "epoch_number: 710, current_loss: 14.281554400920868, best_loss: 0.0014106647610664367\n",
      "epoch_number: 715, current_loss: 15.002717435359955, best_loss: 0.0014106647610664367\n",
      "epoch_number: 720, current_loss: 14.376040577888489, best_loss: 0.0014106647610664367\n",
      "epoch_number: 725, current_loss: 14.880667805671692, best_loss: 0.0014106647610664367\n",
      "epoch_number: 730, current_loss: 14.740745842456818, best_loss: 0.0014106647610664367\n",
      "epoch_number: 735, current_loss: 14.426178574562073, best_loss: 0.0014106647610664367\n",
      "epoch_number: 740, current_loss: 14.651338934898376, best_loss: 0.0014106647610664367\n",
      "epoch_number: 745, current_loss: 14.519850194454193, best_loss: 0.0014106647610664367\n",
      "epoch_number: 750, current_loss: 14.685776948928833, best_loss: 0.0014106647610664367\n",
      "epoch_number: 755, current_loss: 14.796757340431213, best_loss: 0.0014106647610664367\n",
      "epoch_number: 760, current_loss: 14.706919729709625, best_loss: 0.0014106647610664367\n",
      "epoch_number: 765, current_loss: 14.569254159927368, best_loss: 0.0014106647610664367\n",
      "epoch_number: 770, current_loss: 14.66392832994461, best_loss: 0.0014106647610664367\n",
      "epoch_number: 775, current_loss: 14.4523885846138, best_loss: 0.0014106647610664367\n",
      "epoch_number: 780, current_loss: 14.624251663684845, best_loss: 0.0014106647610664367\n",
      "epoch_number: 785, current_loss: 14.888889193534851, best_loss: 0.0014106647610664367\n",
      "epoch_number: 790, current_loss: 15.110594749450684, best_loss: 0.0014106647610664367\n",
      "epoch_number: 795, current_loss: 14.67919808626175, best_loss: 0.0014106647610664367\n",
      "epoch_number: 800, current_loss: 14.743228435516357, best_loss: 0.0014102153837680816\n",
      "epoch_number: 805, current_loss: 14.289401113986969, best_loss: 0.0014102153837680816\n",
      "epoch_number: 810, current_loss: 14.89201831817627, best_loss: 0.0014102153837680816\n",
      "epoch_number: 815, current_loss: 15.039787471294403, best_loss: 0.0014102153837680816\n",
      "epoch_number: 820, current_loss: 14.667981922626495, best_loss: 0.0014102153837680816\n",
      "epoch_number: 825, current_loss: 14.407380759716034, best_loss: 0.0014102153837680816\n",
      "epoch_number: 830, current_loss: 15.177931547164917, best_loss: 0.0014102153837680816\n",
      "epoch_number: 835, current_loss: 14.997503638267517, best_loss: 0.0014102153837680816\n",
      "epoch_number: 840, current_loss: 14.733871400356293, best_loss: 0.0014102153837680816\n",
      "epoch_number: 845, current_loss: 14.501404941082, best_loss: 0.0014102153837680816\n",
      "epoch_number: 850, current_loss: 14.890600323677063, best_loss: 0.0014102153837680816\n",
      "epoch_number: 855, current_loss: 14.661229372024536, best_loss: 0.0014102153837680816\n",
      "epoch_number: 860, current_loss: 14.288085758686066, best_loss: 0.0014102153837680816\n",
      "epoch_number: 865, current_loss: 14.516947984695435, best_loss: 0.0014102153837680816\n",
      "epoch_number: 870, current_loss: 14.757976174354553, best_loss: 0.0014102153837680816\n",
      "epoch_number: 875, current_loss: 14.240572392940521, best_loss: 0.0014102153837680816\n",
      "epoch_number: 880, current_loss: 14.527848720550537, best_loss: 0.0014102153837680816\n",
      "epoch_number: 885, current_loss: 14.464688956737518, best_loss: 0.0014102153837680816\n",
      "epoch_number: 890, current_loss: 14.537792026996613, best_loss: 0.0014102153837680816\n",
      "epoch_number: 895, current_loss: 14.720753610134125, best_loss: 0.0014102153837680816\n",
      "epoch_number: 900, current_loss: 14.722680568695068, best_loss: 0.0014102153837680816\n",
      "epoch_number: 905, current_loss: 14.721032321453094, best_loss: 0.0014102153837680816\n",
      "epoch_number: 910, current_loss: 15.046561539173126, best_loss: 0.0013988197922706605\n",
      "epoch_number: 915, current_loss: 14.742662012577057, best_loss: 0.0013988197922706605\n",
      "epoch_number: 920, current_loss: 14.345622599124908, best_loss: 0.0013988197922706605\n",
      "epoch_number: 925, current_loss: 14.802075684070587, best_loss: 0.0013988197922706605\n",
      "epoch_number: 930, current_loss: 14.547031819820404, best_loss: 0.0013988197922706605\n",
      "epoch_number: 935, current_loss: 14.42909574508667, best_loss: 0.0013988197922706605\n",
      "epoch_number: 940, current_loss: 14.613722503185272, best_loss: 0.0013988197922706605\n",
      "epoch_number: 945, current_loss: 14.080027401447296, best_loss: 0.0013988197922706605\n",
      "epoch_number: 950, current_loss: 14.960533440113068, best_loss: 0.0013988197922706605\n",
      "epoch_number: 955, current_loss: 14.729804635047913, best_loss: 0.0013988197922706605\n",
      "epoch_number: 960, current_loss: 14.870743215084076, best_loss: 0.0013988197922706605\n",
      "epoch_number: 965, current_loss: 14.316076099872589, best_loss: 0.0013988197922706605\n",
      "epoch_number: 970, current_loss: 14.617719411849976, best_loss: 0.0013988197922706605\n",
      "epoch_number: 975, current_loss: 14.669589757919312, best_loss: 0.0013988197922706605\n",
      "epoch_number: 980, current_loss: 14.532628536224365, best_loss: 0.0013988197922706605\n",
      "epoch_number: 985, current_loss: 14.343424916267395, best_loss: 0.0013988197922706605\n",
      "epoch_number: 990, current_loss: 14.789172887802124, best_loss: 0.0013988197922706605\n",
      "epoch_number: 995, current_loss: 14.449934482574463, best_loss: 0.0013988197922706605\n",
      "epoch_number: 1000, current_loss: 14.495939791202545, best_loss: 0.0013988197922706605\n",
      "epoch_number: 1005, current_loss: 14.668544709682465, best_loss: 0.0013988197922706605\n",
      "epoch_number: 1010, current_loss: 14.687844693660736, best_loss: 0.0013988197922706605\n",
      "epoch_number: 1015, current_loss: 14.616679191589355, best_loss: 0.0013988197922706605\n",
      "epoch_number: 1020, current_loss: 14.550577819347382, best_loss: 0.0013988197922706605\n",
      "epoch_number: 1025, current_loss: 14.681001663208008, best_loss: 0.0013988197922706605\n",
      "epoch_number: 1030, current_loss: 15.210765600204468, best_loss: 0.0013988197922706605\n",
      "epoch_number: 1035, current_loss: 14.51702755689621, best_loss: 0.0013988197922706605\n",
      "epoch_number: 1040, current_loss: 14.204642236232758, best_loss: 0.0013988197922706605\n",
      "epoch_number: 1045, current_loss: 14.38631385564804, best_loss: 0.0013988197922706605\n",
      "epoch_number: 1050, current_loss: 14.614607691764832, best_loss: 0.0013988197922706605\n",
      "epoch_number: 1055, current_loss: 14.983141541481018, best_loss: 0.0013988197922706605\n",
      "epoch_number: 1060, current_loss: 14.621009290218353, best_loss: 0.0013988197922706605\n",
      "epoch_number: 1065, current_loss: 14.797927916049957, best_loss: 0.0013988197922706605\n",
      "epoch_number: 1070, current_loss: 14.230015277862549, best_loss: 0.0013988197922706605\n",
      "epoch_number: 1075, current_loss: 15.144473493099213, best_loss: 0.0013988197922706605\n",
      "epoch_number: 1080, current_loss: 14.97901862859726, best_loss: 0.0013988197922706605\n",
      "epoch_number: 1085, current_loss: 14.945012629032135, best_loss: 0.0013988197922706605\n",
      "epoch_number: 1090, current_loss: 14.525761842727661, best_loss: 0.0013988197922706605\n",
      "epoch_number: 1095, current_loss: 14.55758684873581, best_loss: 0.0013988197922706605\n",
      "epoch_number: 1100, current_loss: 14.683229804039001, best_loss: 0.0013988197922706605\n",
      "epoch_number: 1105, current_loss: 14.043734431266785, best_loss: 0.0013988197922706605\n",
      "epoch_number: 1110, current_loss: 14.781189143657684, best_loss: 0.0013988197922706605\n",
      "epoch_number: 1115, current_loss: 14.64900004863739, best_loss: 0.0013988197922706605\n",
      "epoch_number: 1120, current_loss: 14.278040587902069, best_loss: 0.0013988197922706605\n",
      "epoch_number: 1125, current_loss: 14.586735129356384, best_loss: 0.0013988197922706605\n",
      "epoch_number: 1130, current_loss: 14.612069189548492, best_loss: 0.0013988197922706605\n",
      "epoch_number: 1135, current_loss: 14.320029139518738, best_loss: 0.0013988197922706605\n",
      "epoch_number: 1140, current_loss: 14.718761086463928, best_loss: 0.0013988197922706605\n",
      "epoch_number: 1145, current_loss: 14.615633130073547, best_loss: 0.0013988197922706605\n",
      "epoch_number: 1150, current_loss: 14.454494178295135, best_loss: 0.0013988197922706605\n",
      "epoch_number: 1155, current_loss: 14.625938355922699, best_loss: 0.0013988197922706605\n",
      "epoch_number: 1160, current_loss: 14.685319662094116, best_loss: 0.0013988197922706605\n",
      "epoch_number: 1165, current_loss: 14.563141345977783, best_loss: 0.0013988197922706605\n",
      "epoch_number: 1170, current_loss: 14.707660019397736, best_loss: 0.0013988197922706605\n",
      "epoch_number: 1175, current_loss: 14.641694486141205, best_loss: 0.0013988197922706605\n",
      "epoch_number: 1180, current_loss: 14.669370174407959, best_loss: 0.0013988197922706605\n",
      "epoch_number: 1185, current_loss: 14.629721999168396, best_loss: 0.0013988197922706605\n",
      "epoch_number: 1190, current_loss: 14.4940065741539, best_loss: 0.0013986760139465331\n",
      "epoch_number: 1195, current_loss: 14.401183843612671, best_loss: 0.0013986760139465331\n",
      "epoch_number: 1200, current_loss: 14.158249735832214, best_loss: 0.0013986760139465331\n",
      "epoch_number: 1205, current_loss: 14.702092111110687, best_loss: 0.0013986760139465331\n",
      "epoch_number: 1210, current_loss: 14.545887410640717, best_loss: 0.0013986760139465331\n",
      "epoch_number: 1215, current_loss: 13.962330639362335, best_loss: 0.0013986760139465331\n",
      "epoch_number: 1220, current_loss: 14.64306253194809, best_loss: 0.0013962330639362335\n",
      "epoch_number: 1225, current_loss: 14.460376620292664, best_loss: 0.0013962330639362335\n",
      "epoch_number: 1230, current_loss: 14.526264190673828, best_loss: 0.0013962330639362335\n",
      "epoch_number: 1235, current_loss: 14.479553401470184, best_loss: 0.0013962330639362335\n",
      "epoch_number: 1240, current_loss: 14.76420670747757, best_loss: 0.0013962330639362335\n",
      "epoch_number: 1245, current_loss: 14.885611712932587, best_loss: 0.0013962330639362335\n",
      "epoch_number: 1250, current_loss: 14.142902731895447, best_loss: 0.0013962330639362335\n",
      "epoch_number: 1255, current_loss: 14.240250706672668, best_loss: 0.0013962330639362335\n",
      "epoch_number: 1260, current_loss: 14.936280846595764, best_loss: 0.0013962330639362335\n",
      "epoch_number: 1265, current_loss: 14.527356564998627, best_loss: 0.0013962330639362335\n",
      "epoch_number: 1270, current_loss: 14.88519161939621, best_loss: 0.0013962330639362335\n",
      "epoch_number: 1275, current_loss: 14.73881870508194, best_loss: 0.0013962330639362335\n",
      "epoch_number: 1280, current_loss: 14.583946108818054, best_loss: 0.0013962330639362335\n",
      "epoch_number: 1285, current_loss: 14.601805090904236, best_loss: 0.0013962330639362335\n",
      "epoch_number: 1290, current_loss: 14.21528697013855, best_loss: 0.0013962330639362335\n",
      "epoch_number: 1295, current_loss: 14.782532155513763, best_loss: 0.0013962330639362335\n",
      "epoch_number: 1300, current_loss: 14.25032240152359, best_loss: 0.0013962330639362335\n",
      "epoch_number: 1305, current_loss: 14.790916502475739, best_loss: 0.0013962330639362335\n",
      "epoch_number: 1310, current_loss: 15.061565339565277, best_loss: 0.0013962330639362335\n",
      "epoch_number: 1315, current_loss: 14.677509009838104, best_loss: 0.0013962330639362335\n",
      "epoch_number: 1320, current_loss: 14.486058413982391, best_loss: 0.0013962330639362335\n",
      "epoch_number: 1325, current_loss: 14.693632006645203, best_loss: 0.0013962330639362335\n",
      "epoch_number: 1330, current_loss: 14.605754494667053, best_loss: 0.0013962330639362335\n",
      "epoch_number: 1335, current_loss: 14.829967319965363, best_loss: 0.0013962330639362335\n",
      "epoch_number: 1340, current_loss: 14.763340711593628, best_loss: 0.0013962330639362335\n",
      "epoch_number: 1345, current_loss: 14.677528977394104, best_loss: 0.0013962330639362335\n",
      "epoch_number: 1350, current_loss: 14.989520013332367, best_loss: 0.0013962330639362335\n",
      "epoch_number: 1355, current_loss: 14.509807169437408, best_loss: 0.0013962330639362335\n",
      "epoch_number: 1360, current_loss: 14.579508483409882, best_loss: 0.0013962330639362335\n",
      "epoch_number: 1365, current_loss: 14.779503762722015, best_loss: 0.0013962330639362335\n",
      "epoch_number: 1370, current_loss: 14.38593989610672, best_loss: 0.0013962330639362335\n",
      "epoch_number: 1375, current_loss: 14.774309694766998, best_loss: 0.0013962330639362335\n",
      "epoch_number: 1380, current_loss: 14.606628715991974, best_loss: 0.0013962330639362335\n",
      "epoch_number: 1385, current_loss: 14.924140870571136, best_loss: 0.0013962330639362335\n",
      "epoch_number: 1390, current_loss: 14.371384263038635, best_loss: 0.0013962330639362335\n",
      "epoch_number: 1395, current_loss: 14.372197270393372, best_loss: 0.0013962330639362335\n",
      "epoch_number: 1400, current_loss: 14.360938966274261, best_loss: 0.0013962330639362335\n",
      "epoch_number: 1405, current_loss: 14.84009325504303, best_loss: 0.0013962330639362335\n",
      "epoch_number: 1410, current_loss: 14.473964095115662, best_loss: 0.0013962330639362335\n",
      "epoch_number: 1415, current_loss: 14.89315539598465, best_loss: 0.0013962330639362335\n",
      "epoch_number: 1420, current_loss: 15.132583439350128, best_loss: 0.0013962330639362335\n",
      "epoch_number: 1425, current_loss: 15.30330777168274, best_loss: 0.0013962330639362335\n",
      "epoch_number: 1430, current_loss: 14.880706310272217, best_loss: 0.0013962330639362335\n",
      "epoch_number: 1435, current_loss: 14.752137064933777, best_loss: 0.0013962330639362335\n",
      "epoch_number: 1440, current_loss: 14.961221873760223, best_loss: 0.0013962330639362335\n",
      "epoch_number: 1445, current_loss: 14.315192818641663, best_loss: 0.0013962330639362335\n",
      "epoch_number: 1450, current_loss: 15.220200836658478, best_loss: 0.0013962330639362335\n",
      "epoch_number: 1455, current_loss: 14.633610129356384, best_loss: 0.0013962330639362335\n",
      "epoch_number: 1460, current_loss: 14.572928547859192, best_loss: 0.0013962330639362335\n",
      "epoch_number: 1465, current_loss: 14.606575191020966, best_loss: 0.0013962330639362335\n",
      "epoch_number: 1470, current_loss: 14.462157428264618, best_loss: 0.0013962330639362335\n",
      "epoch_number: 1475, current_loss: 14.463626086711884, best_loss: 0.0013962330639362335\n",
      "epoch_number: 1480, current_loss: 14.546715378761292, best_loss: 0.0013962330639362335\n",
      "epoch_number: 1485, current_loss: 15.130240261554718, best_loss: 0.0013962330639362335\n",
      "epoch_number: 1490, current_loss: 15.287368357181549, best_loss: 0.0013962330639362335\n",
      "epoch_number: 1495, current_loss: 14.333059191703796, best_loss: 0.0013962330639362335\n",
      "epoch_number: 1500, current_loss: 14.505033195018768, best_loss: 0.0013962330639362335\n",
      "epoch_number: 1505, current_loss: 14.47707200050354, best_loss: 0.0013962330639362335\n",
      "epoch_number: 1510, current_loss: 14.564032435417175, best_loss: 0.0013962330639362335\n",
      "epoch_number: 1515, current_loss: 14.914613366127014, best_loss: 0.0013962330639362335\n",
      "epoch_number: 1520, current_loss: 14.965183913707733, best_loss: 0.0013962330639362335\n",
      "epoch_number: 1525, current_loss: 13.842973351478577, best_loss: 0.0013962330639362335\n",
      "epoch_number: 1530, current_loss: 14.733786463737488, best_loss: 0.0013842973351478576\n",
      "epoch_number: 1535, current_loss: 14.57569807767868, best_loss: 0.0013842973351478576\n",
      "epoch_number: 1540, current_loss: 14.635072946548462, best_loss: 0.0013842973351478576\n",
      "epoch_number: 1545, current_loss: 14.528045177459717, best_loss: 0.0013842973351478576\n",
      "epoch_number: 1550, current_loss: 14.490570664405823, best_loss: 0.0013842973351478576\n",
      "epoch_number: 1555, current_loss: 14.61782032251358, best_loss: 0.0013842973351478576\n",
      "epoch_number: 1560, current_loss: 14.371146082878113, best_loss: 0.0013842973351478576\n",
      "epoch_number: 1565, current_loss: 14.60811072587967, best_loss: 0.0013842973351478576\n",
      "epoch_number: 1570, current_loss: 14.63581645488739, best_loss: 0.0013842973351478576\n",
      "epoch_number: 1575, current_loss: 14.420954406261444, best_loss: 0.0013842973351478576\n",
      "epoch_number: 1580, current_loss: 14.109833180904388, best_loss: 0.0013842973351478576\n",
      "epoch_number: 1585, current_loss: 14.941434502601624, best_loss: 0.0013842973351478576\n",
      "epoch_number: 1590, current_loss: 14.52272230386734, best_loss: 0.0013842973351478576\n",
      "epoch_number: 1595, current_loss: 14.504920065402985, best_loss: 0.0013842973351478576\n",
      "epoch_number: 1600, current_loss: 14.472306549549103, best_loss: 0.0013842973351478576\n",
      "epoch_number: 1605, current_loss: 14.29894095659256, best_loss: 0.0013842973351478576\n",
      "epoch_number: 1610, current_loss: 14.75204622745514, best_loss: 0.0013842973351478576\n",
      "epoch_number: 1615, current_loss: 14.151823818683624, best_loss: 0.0013842973351478576\n",
      "epoch_number: 1620, current_loss: 14.367120563983917, best_loss: 0.0013842973351478576\n",
      "epoch_number: 1625, current_loss: 14.752628803253174, best_loss: 0.0013842973351478576\n",
      "epoch_number: 1630, current_loss: 14.882583916187286, best_loss: 0.0013842973351478576\n",
      "epoch_number: 1635, current_loss: 14.496901035308838, best_loss: 0.0013842973351478576\n",
      "epoch_number: 1640, current_loss: 14.90158236026764, best_loss: 0.0013842973351478576\n",
      "epoch_number: 1645, current_loss: 14.436915218830109, best_loss: 0.0013842973351478576\n",
      "epoch_number: 1650, current_loss: 14.148119390010834, best_loss: 0.0013842973351478576\n",
      "epoch_number: 1655, current_loss: 14.56331354379654, best_loss: 0.0013842973351478576\n",
      "epoch_number: 1660, current_loss: 14.39329844713211, best_loss: 0.0013842973351478576\n",
      "epoch_number: 1665, current_loss: 14.528122782707214, best_loss: 0.0013842973351478576\n",
      "epoch_number: 1670, current_loss: 14.470250606536865, best_loss: 0.0013842973351478576\n",
      "epoch_number: 1675, current_loss: 14.284229278564453, best_loss: 0.0013842973351478576\n",
      "epoch_number: 1680, current_loss: 14.678185760974884, best_loss: 0.0013842973351478576\n",
      "epoch_number: 1685, current_loss: 14.482433676719666, best_loss: 0.0013842973351478576\n",
      "epoch_number: 1690, current_loss: 15.07616263628006, best_loss: 0.0013842973351478576\n",
      "epoch_number: 1695, current_loss: 14.653568148612976, best_loss: 0.0013842973351478576\n",
      "epoch_number: 1700, current_loss: 14.828599393367767, best_loss: 0.0013842973351478576\n",
      "epoch_number: 1705, current_loss: 14.623405635356903, best_loss: 0.0013842973351478576\n",
      "epoch_number: 1710, current_loss: 14.357647478580475, best_loss: 0.0013842973351478576\n",
      "epoch_number: 1715, current_loss: 14.436031699180603, best_loss: 0.0013842973351478576\n",
      "epoch_number: 1720, current_loss: 14.241475105285645, best_loss: 0.0013842973351478576\n",
      "epoch_number: 1725, current_loss: 14.568751573562622, best_loss: 0.0013842973351478576\n",
      "epoch_number: 1730, current_loss: 14.75670212507248, best_loss: 0.0013842973351478576\n",
      "epoch_number: 1735, current_loss: 14.816973268985748, best_loss: 0.0013842973351478576\n",
      "epoch_number: 1740, current_loss: 14.086357235908508, best_loss: 0.0013842973351478576\n",
      "epoch_number: 1745, current_loss: 14.373014867305756, best_loss: 0.0013842973351478576\n",
      "epoch_number: 1750, current_loss: 14.225712239742279, best_loss: 0.0013842973351478576\n",
      "epoch_number: 1755, current_loss: 14.271556854248047, best_loss: 0.0013842973351478576\n",
      "epoch_number: 1760, current_loss: 14.612308144569397, best_loss: 0.0013842973351478576\n",
      "epoch_number: 1765, current_loss: 14.664788544178009, best_loss: 0.0013842973351478576\n",
      "epoch_number: 1770, current_loss: 14.683212161064148, best_loss: 0.0013842973351478576\n",
      "epoch_number: 1775, current_loss: 14.513901174068451, best_loss: 0.0013842973351478576\n",
      "epoch_number: 1780, current_loss: 14.662046551704407, best_loss: 0.0013842973351478576\n",
      "epoch_number: 1785, current_loss: 14.499914705753326, best_loss: 0.0013842973351478576\n",
      "epoch_number: 1790, current_loss: 14.0848029255867, best_loss: 0.0013842973351478576\n",
      "epoch_number: 1795, current_loss: 14.676222026348114, best_loss: 0.0013842973351478576\n",
      "epoch_number: 1800, current_loss: 14.441070675849915, best_loss: 0.0013842973351478576\n",
      "epoch_number: 1805, current_loss: 14.176207661628723, best_loss: 0.0013842973351478576\n",
      "epoch_number: 1810, current_loss: 14.827124118804932, best_loss: 0.0013842973351478576\n",
      "epoch_number: 1815, current_loss: 14.613868057727814, best_loss: 0.0013842973351478576\n",
      "epoch_number: 1820, current_loss: 14.508445501327515, best_loss: 0.0013842973351478576\n",
      "epoch_number: 1825, current_loss: 14.494873106479645, best_loss: 0.0013842973351478576\n",
      "epoch_number: 1830, current_loss: 14.489570140838623, best_loss: 0.0013842973351478576\n",
      "epoch_number: 1835, current_loss: 14.214558780193329, best_loss: 0.0013842973351478576\n",
      "epoch_number: 1840, current_loss: 14.730805814266205, best_loss: 0.0013842973351478576\n",
      "epoch_number: 1845, current_loss: 14.748925924301147, best_loss: 0.0013842973351478576\n",
      "epoch_number: 1850, current_loss: 14.603045344352722, best_loss: 0.0013842973351478576\n",
      "epoch_number: 1855, current_loss: 14.717377424240112, best_loss: 0.0013842973351478576\n",
      "epoch_number: 1860, current_loss: 14.56385862827301, best_loss: 0.0013842973351478576\n",
      "epoch_number: 1865, current_loss: 14.941112279891968, best_loss: 0.0013842973351478576\n",
      "epoch_number: 1870, current_loss: 14.506609737873077, best_loss: 0.0013842973351478576\n",
      "epoch_number: 1875, current_loss: 14.639061868190765, best_loss: 0.0013842973351478576\n",
      "epoch_number: 1880, current_loss: 14.592116355895996, best_loss: 0.0013842973351478576\n",
      "epoch_number: 1885, current_loss: 14.775015473365784, best_loss: 0.0013842973351478576\n",
      "epoch_number: 1890, current_loss: 14.549109637737274, best_loss: 0.0013842973351478576\n",
      "epoch_number: 1895, current_loss: 15.018823146820068, best_loss: 0.0013842973351478576\n",
      "epoch_number: 1900, current_loss: 14.381734430789948, best_loss: 0.0013842973351478576\n",
      "epoch_number: 1905, current_loss: 14.59800934791565, best_loss: 0.0013842973351478576\n",
      "epoch_number: 1910, current_loss: 14.590907335281372, best_loss: 0.0013842973351478576\n",
      "epoch_number: 1915, current_loss: 14.495422303676605, best_loss: 0.0013842973351478576\n",
      "epoch_number: 1920, current_loss: 14.326850414276123, best_loss: 0.0013842973351478576\n",
      "epoch_number: 1925, current_loss: 14.328550457954407, best_loss: 0.0013842973351478576\n",
      "epoch_number: 1930, current_loss: 14.733923494815826, best_loss: 0.0013823307275772094\n",
      "epoch_number: 1935, current_loss: 14.216171622276306, best_loss: 0.0013823307275772094\n",
      "epoch_number: 1940, current_loss: 14.584977388381958, best_loss: 0.0013823307275772094\n",
      "epoch_number: 1945, current_loss: 14.559480965137482, best_loss: 0.0013823307275772094\n",
      "epoch_number: 1950, current_loss: 14.389887571334839, best_loss: 0.0013823307275772094\n",
      "epoch_number: 1955, current_loss: 14.415422141551971, best_loss: 0.0013823307275772094\n",
      "epoch_number: 1960, current_loss: 14.736544847488403, best_loss: 0.0013823307275772094\n",
      "epoch_number: 1965, current_loss: 14.431224763393402, best_loss: 0.0013823307275772094\n",
      "epoch_number: 1970, current_loss: 14.410204589366913, best_loss: 0.0013823307275772094\n",
      "epoch_number: 1975, current_loss: 14.890944600105286, best_loss: 0.0013823307275772094\n",
      "epoch_number: 1980, current_loss: 14.43914395570755, best_loss: 0.0013823307275772094\n",
      "epoch_number: 1985, current_loss: 14.779909551143646, best_loss: 0.0013823307275772094\n",
      "epoch_number: 1990, current_loss: 14.761421203613281, best_loss: 0.0013823307275772094\n",
      "epoch_number: 1995, current_loss: 14.214950144290924, best_loss: 0.0013823307275772094\n",
      "epoch_number: 2000, current_loss: 14.950639069080353, best_loss: 0.0013823307275772094\n",
      "epoch_number: 2005, current_loss: 14.909240484237671, best_loss: 0.0013823307275772094\n",
      "epoch_number: 2010, current_loss: 14.856408059597015, best_loss: 0.0013823307275772094\n",
      "epoch_number: 2015, current_loss: 14.686179399490356, best_loss: 0.0013823307275772094\n",
      "epoch_number: 2020, current_loss: 14.753824472427368, best_loss: 0.0013823307275772094\n",
      "epoch_number: 2025, current_loss: 14.52668046951294, best_loss: 0.0013823307275772094\n",
      "epoch_number: 2030, current_loss: 14.29127150774002, best_loss: 0.0013823307275772094\n",
      "epoch_number: 2035, current_loss: 14.808730244636536, best_loss: 0.0013823307275772094\n",
      "epoch_number: 2040, current_loss: 14.369058907032013, best_loss: 0.0013823307275772094\n",
      "epoch_number: 2045, current_loss: 14.724786102771759, best_loss: 0.0013823307275772094\n",
      "epoch_number: 2050, current_loss: 14.76885849237442, best_loss: 0.0013823307275772094\n",
      "epoch_number: 2055, current_loss: 14.820882499217987, best_loss: 0.0013823307275772094\n",
      "epoch_number: 2060, current_loss: 14.648722529411316, best_loss: 0.0013823307275772094\n",
      "epoch_number: 2065, current_loss: 14.468942105770111, best_loss: 0.0013823307275772094\n",
      "epoch_number: 2070, current_loss: 14.553869664669037, best_loss: 0.0013823307275772094\n",
      "epoch_number: 2075, current_loss: 14.53222006559372, best_loss: 0.0013823307275772094\n",
      "epoch_number: 2080, current_loss: 14.895818412303925, best_loss: 0.0013823307275772094\n",
      "epoch_number: 2085, current_loss: 14.48834240436554, best_loss: 0.0013823307275772094\n",
      "epoch_number: 2090, current_loss: 14.700798153877258, best_loss: 0.0013823307275772094\n",
      "epoch_number: 2095, current_loss: 14.589175581932068, best_loss: 0.0013823307275772094\n",
      "epoch_number: 2100, current_loss: 14.695752024650574, best_loss: 0.0013823307275772094\n",
      "epoch_number: 2105, current_loss: 14.369917511940002, best_loss: 0.0013823307275772094\n",
      "epoch_number: 2110, current_loss: 14.76169502735138, best_loss: 0.0013823307275772094\n",
      "epoch_number: 2115, current_loss: 14.150218963623047, best_loss: 0.0013823307275772094\n",
      "epoch_number: 2120, current_loss: 14.644885957241058, best_loss: 0.0013823307275772094\n",
      "epoch_number: 2125, current_loss: 14.743728697299957, best_loss: 0.0013823307275772094\n",
      "epoch_number: 2130, current_loss: 14.679159998893738, best_loss: 0.0013823307275772094\n",
      "epoch_number: 2135, current_loss: 14.36222779750824, best_loss: 0.0013823307275772094\n",
      "epoch_number: 2140, current_loss: 14.598075032234192, best_loss: 0.0013823307275772094\n",
      "epoch_number: 2145, current_loss: 14.414192497730255, best_loss: 0.0013823307275772094\n",
      "epoch_number: 2150, current_loss: 15.14437484741211, best_loss: 0.0013823307275772094\n",
      "epoch_number: 2155, current_loss: 14.151101052761078, best_loss: 0.0013823307275772094\n",
      "epoch_number: 2160, current_loss: 14.42166018486023, best_loss: 0.0013823307275772094\n",
      "epoch_number: 2165, current_loss: 14.63052123785019, best_loss: 0.0013823307275772094\n",
      "epoch_number: 2170, current_loss: 14.430097460746765, best_loss: 0.0013823307275772094\n",
      "epoch_number: 2175, current_loss: 14.784994721412659, best_loss: 0.0013823307275772094\n",
      "epoch_number: 2180, current_loss: 14.28077632188797, best_loss: 0.0013823307275772094\n",
      "epoch_number: 2185, current_loss: 14.775351226329803, best_loss: 0.0013823307275772094\n",
      "epoch_number: 2190, current_loss: 14.769741296768188, best_loss: 0.0013823307275772094\n",
      "epoch_number: 2195, current_loss: 14.258917808532715, best_loss: 0.0013823307275772094\n",
      "epoch_number: 2200, current_loss: 14.62734854221344, best_loss: 0.0013823307275772094\n",
      "epoch_number: 2205, current_loss: 14.488167822360992, best_loss: 0.0013823307275772094\n",
      "epoch_number: 2210, current_loss: 14.602680265903473, best_loss: 0.0013823307275772094\n",
      "epoch_number: 2215, current_loss: 14.31113886833191, best_loss: 0.0013823307275772094\n",
      "epoch_number: 2220, current_loss: 14.73044240474701, best_loss: 0.0013823307275772094\n",
      "epoch_number: 2225, current_loss: 15.096687853336334, best_loss: 0.0013823307275772094\n",
      "epoch_number: 2230, current_loss: 14.802818238735199, best_loss: 0.0013823307275772094\n",
      "epoch_number: 2235, current_loss: 14.655841529369354, best_loss: 0.0013823307275772094\n",
      "epoch_number: 2240, current_loss: 14.395116090774536, best_loss: 0.0013823307275772094\n",
      "epoch_number: 2245, current_loss: 14.466450095176697, best_loss: 0.0013823307275772094\n",
      "epoch_number: 2250, current_loss: 14.681359708309174, best_loss: 0.0013823307275772094\n",
      "epoch_number: 2255, current_loss: 14.335804462432861, best_loss: 0.0013823307275772094\n",
      "epoch_number: 2260, current_loss: 14.593321919441223, best_loss: 0.0013823307275772094\n",
      "epoch_number: 2265, current_loss: 14.614295661449432, best_loss: 0.0013823307275772094\n",
      "epoch_number: 2270, current_loss: 14.439509451389313, best_loss: 0.0013823307275772094\n",
      "epoch_number: 2275, current_loss: 14.239040076732635, best_loss: 0.0013823307275772094\n",
      "epoch_number: 2280, current_loss: 14.355217337608337, best_loss: 0.0013823307275772094\n",
      "epoch_number: 2285, current_loss: 14.363921523094177, best_loss: 0.0013823307275772094\n",
      "epoch_number: 2290, current_loss: 14.431710124015808, best_loss: 0.0013823307275772094\n",
      "epoch_number: 2295, current_loss: 14.548321783542633, best_loss: 0.0013799222588539123\n",
      "epoch_number: 2300, current_loss: 14.866873562335968, best_loss: 0.0013799222588539123\n",
      "epoch_number: 2305, current_loss: 14.580879390239716, best_loss: 0.0013799222588539123\n",
      "epoch_number: 2310, current_loss: 14.390035033226013, best_loss: 0.0013799222588539123\n",
      "epoch_number: 2315, current_loss: 14.806122958660126, best_loss: 0.0013799222588539123\n",
      "epoch_number: 2320, current_loss: 14.58320438861847, best_loss: 0.0013799222588539123\n",
      "epoch_number: 2325, current_loss: 14.578781366348267, best_loss: 0.0013799222588539123\n",
      "epoch_number: 2330, current_loss: 14.508596122264862, best_loss: 0.0013799222588539123\n",
      "epoch_number: 2335, current_loss: 14.262587547302246, best_loss: 0.0013799222588539123\n",
      "epoch_number: 2340, current_loss: 14.12571805715561, best_loss: 0.0013799222588539123\n",
      "epoch_number: 2345, current_loss: 14.302851438522339, best_loss: 0.0013799222588539123\n",
      "epoch_number: 2350, current_loss: 14.369688749313354, best_loss: 0.0013799222588539123\n",
      "epoch_number: 2355, current_loss: 14.503577172756195, best_loss: 0.0013799222588539123\n",
      "epoch_number: 2360, current_loss: 14.679210305213928, best_loss: 0.0013799222588539123\n",
      "epoch_number: 2365, current_loss: 14.430017709732056, best_loss: 0.0013799222588539123\n",
      "epoch_number: 2370, current_loss: 13.898423671722412, best_loss: 0.0013799222588539123\n",
      "epoch_number: 2375, current_loss: 14.693460524082184, best_loss: 0.0013799222588539123\n",
      "epoch_number: 2380, current_loss: 14.816178560256958, best_loss: 0.0013799222588539123\n",
      "epoch_number: 2385, current_loss: 14.224354267120361, best_loss: 0.0013799222588539123\n",
      "epoch_number: 2390, current_loss: 14.216950535774231, best_loss: 0.0013799222588539123\n",
      "epoch_number: 2395, current_loss: 14.47922134399414, best_loss: 0.0013799222588539123\n",
      "epoch_number: 2400, current_loss: 14.411853313446045, best_loss: 0.0013799222588539123\n",
      "epoch_number: 2405, current_loss: 14.570187330245972, best_loss: 0.0013799222588539123\n",
      "epoch_number: 2410, current_loss: 14.520741045475006, best_loss: 0.0013799222588539123\n",
      "epoch_number: 2415, current_loss: 14.497801542282104, best_loss: 0.0013799222588539123\n",
      "epoch_number: 2420, current_loss: 14.160236418247223, best_loss: 0.0013799222588539123\n",
      "epoch_number: 2425, current_loss: 14.681289434432983, best_loss: 0.0013799222588539123\n",
      "epoch_number: 2430, current_loss: 14.653992116451263, best_loss: 0.0013799222588539123\n",
      "epoch_number: 2435, current_loss: 14.552091777324677, best_loss: 0.0013799222588539123\n",
      "epoch_number: 2440, current_loss: 14.894562184810638, best_loss: 0.0013799222588539123\n",
      "epoch_number: 2445, current_loss: 14.432646930217743, best_loss: 0.0013799222588539123\n",
      "epoch_number: 2450, current_loss: 14.3760444521904, best_loss: 0.0013799222588539123\n",
      "epoch_number: 2455, current_loss: 14.779224395751953, best_loss: 0.0013799222588539123\n",
      "epoch_number: 2460, current_loss: 14.448344111442566, best_loss: 0.0013799222588539123\n",
      "epoch_number: 2465, current_loss: 14.241241991519928, best_loss: 0.0013799222588539123\n",
      "epoch_number: 2470, current_loss: 14.999226152896881, best_loss: 0.0013799222588539123\n",
      "epoch_number: 2475, current_loss: 13.978999257087708, best_loss: 0.0013799222588539123\n",
      "epoch_number: 2480, current_loss: 15.161265850067139, best_loss: 0.0013799222588539123\n",
      "epoch_number: 2485, current_loss: 14.747193813323975, best_loss: 0.0013799222588539123\n",
      "epoch_number: 2490, current_loss: 14.313065528869629, best_loss: 0.0013799222588539123\n",
      "epoch_number: 2495, current_loss: 14.306412100791931, best_loss: 0.0013799222588539123\n",
      "epoch_number: 2500, current_loss: 14.664316594600677, best_loss: 0.0013799222588539123\n",
      "epoch_number: 2505, current_loss: 14.303142189979553, best_loss: 0.0013799222588539123\n",
      "epoch_number: 2510, current_loss: 14.495753645896912, best_loss: 0.0013799222588539123\n",
      "epoch_number: 2515, current_loss: 14.170201420783997, best_loss: 0.0013799222588539123\n",
      "epoch_number: 2520, current_loss: 14.673895835876465, best_loss: 0.0013799222588539123\n",
      "epoch_number: 2525, current_loss: 14.516873717308044, best_loss: 0.0013799222588539123\n",
      "epoch_number: 2530, current_loss: 14.532265067100525, best_loss: 0.0013799222588539123\n",
      "epoch_number: 2535, current_loss: 14.66221809387207, best_loss: 0.0013799222588539123\n",
      "epoch_number: 2540, current_loss: 14.691828310489655, best_loss: 0.0013799222588539123\n",
      "epoch_number: 2545, current_loss: 14.872225999832153, best_loss: 0.0013799222588539123\n",
      "epoch_number: 2550, current_loss: 14.453426718711853, best_loss: 0.0013799222588539123\n",
      "epoch_number: 2555, current_loss: 14.972388565540314, best_loss: 0.0013799222588539123\n",
      "epoch_number: 2560, current_loss: 14.867366313934326, best_loss: 0.0013799222588539123\n",
      "epoch_number: 2565, current_loss: 14.246349096298218, best_loss: 0.0013623578071594237\n",
      "epoch_number: 2570, current_loss: 14.820527851581573, best_loss: 0.0013623578071594237\n",
      "epoch_number: 2575, current_loss: 14.57878166437149, best_loss: 0.0013623578071594237\n",
      "epoch_number: 2580, current_loss: 14.261227309703827, best_loss: 0.0013623578071594237\n",
      "epoch_number: 2585, current_loss: 14.897899627685547, best_loss: 0.0013623578071594237\n",
      "epoch_number: 2590, current_loss: 14.878274917602539, best_loss: 0.0013623578071594237\n",
      "epoch_number: 2595, current_loss: 14.539788544178009, best_loss: 0.0013623578071594237\n",
      "epoch_number: 2600, current_loss: 14.623461604118347, best_loss: 0.0013623578071594237\n",
      "epoch_number: 2605, current_loss: 14.36960744857788, best_loss: 0.0013623578071594237\n",
      "epoch_number: 2610, current_loss: 14.323607087135315, best_loss: 0.0013623578071594237\n",
      "epoch_number: 2615, current_loss: 14.122280180454254, best_loss: 0.0013623578071594237\n",
      "epoch_number: 2620, current_loss: 14.68261831998825, best_loss: 0.0013623578071594237\n",
      "epoch_number: 2625, current_loss: 14.696865618228912, best_loss: 0.0013623578071594237\n",
      "epoch_number: 2630, current_loss: 14.359167039394379, best_loss: 0.0013623578071594237\n",
      "epoch_number: 2635, current_loss: 14.428271114826202, best_loss: 0.0013623578071594237\n",
      "epoch_number: 2640, current_loss: 14.572756826877594, best_loss: 0.0013623578071594237\n",
      "epoch_number: 2645, current_loss: 14.615916728973389, best_loss: 0.0013623578071594237\n",
      "epoch_number: 2650, current_loss: 15.107601344585419, best_loss: 0.0013623578071594237\n",
      "epoch_number: 2655, current_loss: 14.838371276855469, best_loss: 0.0013623578071594237\n",
      "epoch_number: 2660, current_loss: 14.361621856689453, best_loss: 0.0013623578071594237\n",
      "epoch_number: 2665, current_loss: 14.730701088905334, best_loss: 0.0013623578071594237\n",
      "epoch_number: 2670, current_loss: 14.54080182313919, best_loss: 0.0013623578071594237\n",
      "epoch_number: 2675, current_loss: 14.63363367319107, best_loss: 0.0013623578071594237\n",
      "epoch_number: 2680, current_loss: 14.815634191036224, best_loss: 0.0013623578071594237\n",
      "epoch_number: 2685, current_loss: 14.576145946979523, best_loss: 0.0013623578071594237\n",
      "epoch_number: 2690, current_loss: 14.374548733234406, best_loss: 0.0013623578071594237\n",
      "epoch_number: 2695, current_loss: 14.291111946105957, best_loss: 0.0013623578071594237\n",
      "epoch_number: 2700, current_loss: 14.333622097969055, best_loss: 0.0013623578071594237\n",
      "epoch_number: 2705, current_loss: 14.542883813381195, best_loss: 0.0013623578071594237\n",
      "epoch_number: 2710, current_loss: 14.367644667625427, best_loss: 0.0013623578071594237\n",
      "epoch_number: 2715, current_loss: 13.686055183410645, best_loss: 0.0013623578071594237\n",
      "epoch_number: 2720, current_loss: 14.886537075042725, best_loss: 0.0013623578071594237\n",
      "epoch_number: 2725, current_loss: 14.449891686439514, best_loss: 0.0013623578071594237\n",
      "epoch_number: 2730, current_loss: 14.655238926410675, best_loss: 0.0013623578071594237\n",
      "epoch_number: 2735, current_loss: 14.83840423822403, best_loss: 0.0013623578071594237\n",
      "epoch_number: 2740, current_loss: 14.168668806552887, best_loss: 0.0013623578071594237\n",
      "epoch_number: 2745, current_loss: 14.66835343837738, best_loss: 0.0013623578071594237\n",
      "epoch_number: 2750, current_loss: 14.820157289505005, best_loss: 0.0013623578071594237\n",
      "epoch_number: 2755, current_loss: 14.541690468788147, best_loss: 0.0013623578071594237\n",
      "epoch_number: 2760, current_loss: 14.267540097236633, best_loss: 0.0013623578071594237\n",
      "epoch_number: 2765, current_loss: 14.656283736228943, best_loss: 0.0013623578071594237\n",
      "epoch_number: 2770, current_loss: 14.594329595565796, best_loss: 0.0013623578071594237\n",
      "epoch_number: 2775, current_loss: 14.574523031711578, best_loss: 0.0013623578071594237\n",
      "epoch_number: 2780, current_loss: 14.393545150756836, best_loss: 0.0013623578071594237\n",
      "epoch_number: 2785, current_loss: 14.603412687778473, best_loss: 0.0013623578071594237\n",
      "epoch_number: 2790, current_loss: 14.5968679189682, best_loss: 0.0013623578071594237\n",
      "epoch_number: 2795, current_loss: 14.226430177688599, best_loss: 0.0013623578071594237\n",
      "epoch_number: 2800, current_loss: 14.173604726791382, best_loss: 0.0013623578071594237\n",
      "epoch_number: 2805, current_loss: 14.590262413024902, best_loss: 0.0013623578071594237\n",
      "epoch_number: 2810, current_loss: 14.314387261867523, best_loss: 0.0013623578071594237\n",
      "epoch_number: 2815, current_loss: 14.551180958747864, best_loss: 0.0013623578071594237\n",
      "epoch_number: 2820, current_loss: 14.112059950828552, best_loss: 0.0013623578071594237\n",
      "epoch_number: 2825, current_loss: 14.639155685901642, best_loss: 0.0013623578071594237\n",
      "epoch_number: 2830, current_loss: 14.327741742134094, best_loss: 0.0013623578071594237\n",
      "epoch_number: 2835, current_loss: 14.433240354061127, best_loss: 0.0013623578071594237\n",
      "epoch_number: 2840, current_loss: 14.874457061290741, best_loss: 0.0013623578071594237\n",
      "epoch_number: 2845, current_loss: 14.214832663536072, best_loss: 0.0013623578071594237\n",
      "epoch_number: 2850, current_loss: 14.547319054603577, best_loss: 0.0013623578071594237\n",
      "epoch_number: 2855, current_loss: 14.08754163980484, best_loss: 0.0013623578071594237\n",
      "epoch_number: 2860, current_loss: 14.265858888626099, best_loss: 0.0013623578071594237\n",
      "epoch_number: 2865, current_loss: 14.515782654285431, best_loss: 0.0013623578071594237\n",
      "epoch_number: 2870, current_loss: 14.33817994594574, best_loss: 0.0013623578071594237\n",
      "epoch_number: 2875, current_loss: 14.579711973667145, best_loss: 0.0013623578071594237\n",
      "epoch_number: 2880, current_loss: 14.625160157680511, best_loss: 0.0013623578071594237\n",
      "epoch_number: 2885, current_loss: 14.651456236839294, best_loss: 0.0013623578071594237\n",
      "epoch_number: 2890, current_loss: 14.681869804859161, best_loss: 0.0013623578071594237\n",
      "epoch_number: 2895, current_loss: 14.622016429901123, best_loss: 0.0013623578071594237\n",
      "epoch_number: 2900, current_loss: 14.688273429870605, best_loss: 0.0013623578071594237\n",
      "epoch_number: 2905, current_loss: 14.551794111728668, best_loss: 0.0013623578071594237\n",
      "epoch_number: 2910, current_loss: 14.271911382675171, best_loss: 0.0013623578071594237\n",
      "epoch_number: 2915, current_loss: 14.460018277168274, best_loss: 0.0013623578071594237\n",
      "epoch_number: 2920, current_loss: 14.578688085079193, best_loss: 0.0013623578071594237\n",
      "epoch_number: 2925, current_loss: 14.478589951992035, best_loss: 0.0013623578071594237\n",
      "epoch_number: 2930, current_loss: 14.783493995666504, best_loss: 0.0013623578071594237\n",
      "epoch_number: 2935, current_loss: 14.554997384548187, best_loss: 0.0013623578071594237\n",
      "epoch_number: 2940, current_loss: 14.500673830509186, best_loss: 0.0013623578071594237\n",
      "epoch_number: 2945, current_loss: 14.26402485370636, best_loss: 0.0013623578071594237\n",
      "epoch_number: 2950, current_loss: 14.269787073135376, best_loss: 0.0013623578071594237\n",
      "epoch_number: 2955, current_loss: 14.658186733722687, best_loss: 0.0013623578071594237\n",
      "epoch_number: 2960, current_loss: 14.45957201719284, best_loss: 0.0013623578071594237\n",
      "epoch_number: 2965, current_loss: 14.372877895832062, best_loss: 0.0013623578071594237\n",
      "epoch_number: 2970, current_loss: 15.001437246799469, best_loss: 0.0013623578071594237\n",
      "epoch_number: 2975, current_loss: 14.823314726352692, best_loss: 0.0013623578071594237\n",
      "epoch_number: 2980, current_loss: 14.719161808490753, best_loss: 0.0013623578071594237\n",
      "epoch_number: 2985, current_loss: 14.424603581428528, best_loss: 0.0013623578071594237\n",
      "epoch_number: 2990, current_loss: 14.437418043613434, best_loss: 0.0013623578071594237\n",
      "epoch_number: 2995, current_loss: 14.389021039009094, best_loss: 0.0013623578071594237\n"
     ]
    }
   ],
   "source": [
    "lr = 1e-4\n",
    "optimizer = Adam(score_model_mlp.parameters(), lr=lr)\n",
    "\n",
    "n_epochs = 3000\n",
    "tqdm_epoch = tqdm.notebook.trange(n_epochs)\n",
    "loss_list = []\n",
    "\n",
    "epoch_number = 0\n",
    "best_loss = 1000000\n",
    "\n",
    "for epoch in tqdm_epoch:\n",
    "    loss_train = 0\n",
    "    epoch_numeber = 0.\n",
    "    \n",
    "    for xt in x_train:\n",
    "        loss = loss_fn(model=score_model_mlp, x=xt, marginal_prob_std=marginal_prob_std_fn)\n",
    "        loss_train += loss.item()\n",
    "        \n",
    "        optimizer.zero_grad()\n",
    "        loss.backward()\n",
    "        optimizer.step()\n",
    "    \n",
    "    if epoch_number  % 5 ==0:\n",
    "        print('epoch_number: {}, current_loss: {}, best_loss: {}'.format(epoch_number, loss_train, best_loss))\n",
    "        \n",
    "    if loss_train/(x_train.shape[0]*x_train.shape[1]) < best_loss:\n",
    "        best_loss = loss_train/(x_train.shape[0]*x_train.shape[1])\n",
    "        model_path = 'uncon_mlp\\\\model_{}.pth'.format(epoch_number)\n",
    "        torch.save(score_model_mlp.state_dict(), model_path)\n",
    "        \n",
    "    loss_list.append(loss_train)\n",
    "    epoch_number += 1"
   ]
  },
  {
   "cell_type": "code",
   "execution_count": 12,
   "id": "00a363e8",
   "metadata": {},
   "outputs": [
    {
     "data": {
      "text/plain": [
       "[<matplotlib.lines.Line2D at 0x1d902b8deb0>]"
      ]
     },
     "execution_count": 12,
     "metadata": {},
     "output_type": "execute_result"
    },
    {
     "data": {
      "image/png": "[encoded data removed]",
      "text/plain": [
       "<Figure size 432x288 with 1 Axes>"
      ]
     },
     "metadata": {
      "needs_background": "light"
     },
     "output_type": "display_data"
    }
   ],
   "source": [
    "plt.plot(loss_list)"
   ]
  },
  {
   "cell_type": "code",
   "execution_count": 11,
   "id": "13ffe398",
   "metadata": {},
   "outputs": [
    {
     "data": {
      "text/plain": [
       "<All keys matched successfully>"
      ]
     },
     "execution_count": 11,
     "metadata": {},
     "output_type": "execute_result"
    }
   ],
   "source": [
    "score_model_mlp.load_state_dict(torch.load('uncon_mlp\\\\model_2564.pth'))"
   ]
  },
  {
   "cell_type": "code",
   "execution_count": 12,
   "id": "36675d20",
   "metadata": {},
   "outputs": [],
   "source": [
    "def Euler_Maruyama_sampler(score_model, batch_size, marginal_prob_std, diffusion_coeff, num_steps, eps=1e-3):\n",
    "    t = torch.ones(batch_size)\n",
    "    init_x = torch.randn((batch_size, 1, 1),device=device)  * marginal_prob_std(t)[:, None, None]\n",
    "    time_steps = torch.linspace(1., eps, num_steps)\n",
    "    step_size = time_steps[0] - time_steps[1]\n",
    "    x = init_x\n",
    "    with torch.no_grad():\n",
    "        for time_step in tqdm.notebook.tqdm(time_steps):      \n",
    "            batch_time_step = torch.ones(batch_size, device=device) * time_step\n",
    "            g = diffusion_coeff(batch_time_step)\n",
    "            mean_x = x + (g**2)[:, None, None] * score_model(x, batch_time_step) * step_size\n",
    "            x = mean_x + torch.sqrt(step_size) * g[:, None, None] * torch.randn_like(x)      \n",
    "  # Do not include any noise in the last sampling step.\n",
    "    \n",
    "    return mean_x"
   ]
  },
  {
   "cell_type": "code",
   "execution_count": 13,
   "id": "2258ce23",
   "metadata": {},
   "outputs": [
    {
     "name": "stderr",
     "output_type": "stream",
     "text": [
      "C:\\Users\\dedaoyan\\AppData\\Local\\Temp\\ipykernel_6836\\1117097296.py:3: UserWarning: To copy construct from a tensor, it is recommended to use sourceTensor.clone().detach() or sourceTensor.clone().detach().requires_grad_(True), rather than torch.tensor(sourceTensor).\n",
      "  t = torch.tensor(t, device = device)\n"
     ]
    },
    {
     "data": {
      "application/vnd.jupyter.widget-view+json": {
       "model_id": "de109d413ad5405abc985bc81e38166e",
       "version_major": 2,
       "version_minor": 0
      },
      "text/plain": [
       "  0%|          | 0/10000 [00:00<?, ?it/s]"
      ]
     },
     "metadata": {},
     "output_type": "display_data"
    },
    {
     "name": "stderr",
     "output_type": "stream",
     "text": [
      "C:\\Users\\dedaoyan\\AppData\\Local\\Temp\\ipykernel_6836\\4062452966.py:2: UserWarning: To copy construct from a tensor, it is recommended to use sourceTensor.clone().detach() or sourceTensor.clone().detach().requires_grad_(True), rather than torch.tensor(sourceTensor).\n",
      "  return torch.tensor(sigma**t, device = device)\n"
     ]
    }
   ],
   "source": [
    "x_mlp_em = Euler_Maruyama_sampler(score_model_mlp, 500, marginal_prob_std_fn, diffusion_coeff_fn, num_steps=10000, eps=1e-3)"
   ]
  },
  {
   "cell_type": "code",
   "execution_count": 24,
   "id": "f5633ec9",
   "metadata": {},
   "outputs": [
    {
     "data": {
      "text/plain": [
       "<function matplotlib.pyplot.show(close=None, block=None)>"
      ]
     },
     "execution_count": 24,
     "metadata": {},
     "output_type": "execute_result"
    },
    {
     "data": {
      "image/png": "[encoded data removed]",
      "text/plain": [
       "<Figure size 432x288 with 1 Axes>"
      ]
     },
     "metadata": {
      "needs_background": "light"
     },
     "output_type": "display_data"
    }
   ],
   "source": [
    "x_mlp_em_data = torch.reshape(x_mlp_em,(500,1)).cpu().numpy()\n",
    "df = pd.DataFrame(x_mlp_em_data)\n",
    "df.plot.density()\n",
    "plt.show"
   ]
  },
  {
   "cell_type": "code",
   "execution_count": 23,
   "id": "daa596c4",
   "metadata": {},
   "outputs": [
    {
     "data": {
      "text/plain": [
       "3.949422"
      ]
     },
     "execution_count": 23,
     "metadata": {},
     "output_type": "execute_result"
    }
   ],
   "source": [
    "np.mean(x_mlp_em_data)"
   ]
  },
  {
   "cell_type": "code",
   "execution_count": 24,
   "id": "d37d7b00",
   "metadata": {},
   "outputs": [
    {
     "data": {
      "text/plain": [
       "158.82489"
      ]
     },
     "execution_count": 24,
     "metadata": {},
     "output_type": "execute_result"
    }
   ],
   "source": [
    "np.var(x_mlp_em_data)"
   ]
  },
  {
   "cell_type": "code",
   "execution_count": 14,
   "id": "ec17190f",
   "metadata": {},
   "outputs": [],
   "source": [
    "def Predictor_Corrector_sampler(score_model, batch_size, marginal_prob_std, diffusion_coeff, num_steps, eplsion=1e-2, eps=1e-3):\n",
    "    t = torch.ones(batch_size, device = device)\n",
    "    init_x = torch.randn(batch_size, 1, 1, device = device) * marginal_prob_std(t)[:, None, None]\n",
    "    time_steps = torch.linspace(1., eps, num_steps)\n",
    "    step_size = time_steps[0] - time_steps[1]\n",
    "    x = init_x\n",
    "    with torch.no_grad():\n",
    "        for time_step in tqdm.notebook.tqdm(time_steps):      \n",
    "            batch_time_step = torch.ones(batch_size, device = device) * time_step\n",
    "            score = score_model(x, batch_time_step)\n",
    "            \n",
    "            #MCMC step:\n",
    "            for i in range(1):\n",
    "                x = x + eplsion * score + torch.sqrt(2*torch.tensor(eplsion)) * torch.randn_like(x)\n",
    "                \n",
    "            #EM step\n",
    "            g = diffusion_coeff(batch_time_step)\n",
    "            mean_x = x + (g**2)[:, None, None] * score * step_size\n",
    "            x = mean_x + torch.sqrt(step_size) * g[:, None, None] * torch.randn_like(x)      \n",
    "  # Do not include any noise in the last sampling step.\n",
    "    \n",
    "    return mean_x"
   ]
  },
  {
   "cell_type": "code",
   "execution_count": 15,
   "id": "c27dee20",
   "metadata": {},
   "outputs": [
    {
     "name": "stderr",
     "output_type": "stream",
     "text": [
      "C:\\Users\\dedaoyan\\AppData\\Local\\Temp\\ipykernel_6836\\1117097296.py:3: UserWarning: To copy construct from a tensor, it is recommended to use sourceTensor.clone().detach() or sourceTensor.clone().detach().requires_grad_(True), rather than torch.tensor(sourceTensor).\n",
      "  t = torch.tensor(t, device = device)\n"
     ]
    },
    {
     "data": {
      "application/vnd.jupyter.widget-view+json": {
       "model_id": "44f08ddd652c4ee488da64dfefeb776d",
       "version_major": 2,
       "version_minor": 0
      },
      "text/plain": [
       "  0%|          | 0/10000 [00:00<?, ?it/s]"
      ]
     },
     "metadata": {},
     "output_type": "display_data"
    },
    {
     "name": "stderr",
     "output_type": "stream",
     "text": [
      "C:\\Users\\dedaoyan\\AppData\\Local\\Temp\\ipykernel_6836\\4062452966.py:2: UserWarning: To copy construct from a tensor, it is recommended to use sourceTensor.clone().detach() or sourceTensor.clone().detach().requires_grad_(True), rather than torch.tensor(sourceTensor).\n",
      "  return torch.tensor(sigma**t, device = device)\n"
     ]
    }
   ],
   "source": [
    "x_mlp_pc = Predictor_Corrector_sampler(score_model_mlp, 500, marginal_prob_std_fn, diffusion_coeff_fn, 10000, eplsion=1e-2, eps=1e-3)"
   ]
  },
  {
   "cell_type": "code",
   "execution_count": 25,
   "id": "d3e5cbfa",
   "metadata": {},
   "outputs": [
    {
     "data": {
      "text/plain": [
       "<function matplotlib.pyplot.show(close=None, block=None)>"
      ]
     },
     "execution_count": 25,
     "metadata": {},
     "output_type": "execute_result"
    },
    {
     "data": {
      "image/png": "[encoded data removed]",
      "text/plain": [
       "<Figure size 432x288 with 1 Axes>"
      ]
     },
     "metadata": {
      "needs_background": "light"
     },
     "output_type": "display_data"
    }
   ],
   "source": [
    "x_mlp_pc_data = torch.reshape(x_mlp_pc,(500,1)).cpu().numpy()\n",
    "df = pd.DataFrame(x_mlp_pc_data)\n",
    "df.plot.density()\n",
    "plt.show"
   ]
  },
  {
   "cell_type": "code",
   "execution_count": 28,
   "id": "8517375d",
   "metadata": {},
   "outputs": [
    {
     "data": {
      "text/plain": [
       "3.0749452"
      ]
     },
     "execution_count": 28,
     "metadata": {},
     "output_type": "execute_result"
    }
   ],
   "source": [
    "np.mean(x_mlp_pc_data)"
   ]
  },
  {
   "cell_type": "code",
   "execution_count": 29,
   "id": "417010ec",
   "metadata": {},
   "outputs": [
    {
     "data": {
      "text/plain": [
       "262.60266"
      ]
     },
     "execution_count": 29,
     "metadata": {},
     "output_type": "execute_result"
    }
   ],
   "source": [
    "np.var(x_mlp_pc_data)"
   ]
  },
  {
   "cell_type": "code",
   "execution_count": 16,
   "id": "c51517ab",
   "metadata": {},
   "outputs": [],
   "source": [
    "class GaussianFourierProjection(nn.Module):\n",
    "    def __init__(self, embed_dim, scale=30.):\n",
    "        super().__init__()\n",
    "    # Randomly sample weights during initialization. These weights are fixed \n",
    "    # during optimization and are not trainable.\n",
    "        self.W = nn.Parameter(torch.randn(embed_dim // 2) * scale, requires_grad=False)\n",
    "    \n",
    "    def forward(self, x):\n",
    "        x_proj = x[:, None] * self.W[None, :] * 2 * np.pi\n",
    "        \n",
    "        return torch.cat([torch.sin(x_proj), torch.cos(x_proj)], dim=-1)"
   ]
  },
  {
   "cell_type": "code",
   "execution_count": 17,
   "id": "e97811c5",
   "metadata": {},
   "outputs": [],
   "source": [
    "class Dense(nn.Module):\n",
    "    def __init__(self, input_dim, output_dim):\n",
    "        super().__init__()\n",
    "        self.dense = nn.Linear(input_dim, output_dim)\n",
    "        \n",
    "    def forward(self, x):\n",
    "        return self.dense(x)[..., None]"
   ]
  },
  {
   "cell_type": "code",
   "execution_count": 18,
   "id": "1c2fa87e",
   "metadata": {},
   "outputs": [],
   "source": [
    "class ScoreNet_U(nn.Module):\n",
    "    def __init__(self, shape1, shape2, marginal_prob_std, channels=[32, 64, 128, 256], embed_dim=256):\n",
    "        super().__init__()\n",
    "        \n",
    "        self.xlayer1 = nn.Linear(shape1, shape2)\n",
    "        self.xlayer2 = nn.Linear(shape2, shape1)\n",
    "        \n",
    "        # Gaussian random feature embedding layer for time\n",
    "        self.embed = nn.Sequential(GaussianFourierProjection(embed_dim=embed_dim),\n",
    "         nn.Linear(embed_dim, embed_dim))\n",
    "    # Encoding layers where the resolution decreases\n",
    "        self.conv1 = nn.Conv1d(1, channels[0], 3, stride=1, bias=False)\n",
    "        self.dense1 = Dense(embed_dim, channels[0])\n",
    "        self.gnorm1 = nn.GroupNorm(4, num_channels=channels[0])\n",
    "        self.conv2 = nn.Conv1d(channels[0], channels[1], 3, stride=2, bias=False)\n",
    "        self.dense2 = Dense(embed_dim, channels[1])\n",
    "        self.gnorm2 = nn.GroupNorm(32, num_channels=channels[1])\n",
    "        self.conv3 = nn.Conv1d(channels[1], channels[2], 3, stride=2, bias=False)\n",
    "        self.dense3 = Dense(embed_dim, channels[2])\n",
    "        self.gnorm3 = nn.GroupNorm(32, num_channels=channels[2])\n",
    "        self.conv4 = nn.Conv1d(channels[2], channels[3], 3, stride=2, bias=False)\n",
    "        self.dense4 = Dense(embed_dim, channels[3])\n",
    "        self.gnorm4 = nn.GroupNorm(32, num_channels=channels[3])    \n",
    "\n",
    "    # Decoding layers where the resolution increases\n",
    "        self.tconv4 = nn.ConvTranspose1d(channels[3], channels[2], 3, stride=2, bias=False)\n",
    "        self.dense5 = Dense(embed_dim, channels[2])\n",
    "        self.tgnorm4 = nn.GroupNorm(32, num_channels=channels[2])\n",
    "        self.tconv3 = nn.ConvTranspose1d(channels[2] + channels[2], channels[1], 3, stride=2, bias=False, output_padding=1)    \n",
    "        self.dense6 = Dense(embed_dim, channels[1])\n",
    "        self.tgnorm3 = nn.GroupNorm(32, num_channels=channels[1])\n",
    "        self.tconv2 = nn.ConvTranspose1d(channels[1] + channels[1], channels[0], 3, stride=2, bias=False, output_padding=1)    \n",
    "        self.dense7 = Dense(embed_dim, channels[0])\n",
    "        self.tgnorm2 = nn.GroupNorm(32, num_channels=channels[0])\n",
    "        self.tconv1 = nn.ConvTranspose1d(channels[0] + channels[0], 1, 3, stride=1)\n",
    "    \n",
    "    # The swish activation function\n",
    "        self.act = lambda x: x * torch.sigmoid(x)\n",
    "        self.marginal_prob_std = marginal_prob_std\n",
    "    def forward(self, x, t): \n",
    "    # Obtain the Gaussian random feature embedding for t   \n",
    "        embed = self.act(self.embed(t))    \n",
    "    # Encoding path\n",
    "        x = self.xlayer1(x)\n",
    "        h1 = self.conv1(x)    \n",
    "        ## Incorporate information from t\n",
    "        h1 += self.dense1(embed)\n",
    "        ## Group normalization\n",
    "        h1 = self.gnorm1(h1)\n",
    "        h1 = self.act(h1)\n",
    "        h2 = self.conv2(h1)\n",
    "        h2 += self.dense2(embed)\n",
    "        h2 = self.gnorm2(h2)\n",
    "        h2 = self.act(h2)\n",
    "        h3 = self.conv3(h2)\n",
    "        h3 += self.dense3(embed)\n",
    "        h3 = self.gnorm3(h3)\n",
    "        h3 = self.act(h3)\n",
    "        h4 = self.conv4(h3)\n",
    "        h4 += self.dense4(embed)\n",
    "        h4 = self.gnorm4(h4)\n",
    "        h4 = self.act(h4)\n",
    "\n",
    "    # Decoding path\n",
    "        h = self.tconv4(h4)\n",
    "        ## Skip connection from the encoding path\n",
    "        h += self.dense5(embed)\n",
    "        h = self.tgnorm4(h)\n",
    "        h = self.act(h)\n",
    "        h = self.tconv3(torch.cat([h, h3], dim=1))\n",
    "        h += self.dense6(embed)\n",
    "        h = self.tgnorm3(h)\n",
    "        h = self.act(h)\n",
    "        h = self.tconv2(torch.cat([h, h2], dim=1))\n",
    "        h += self.dense7(embed)\n",
    "        h = self.tgnorm2(h)\n",
    "        h = self.act(h)\n",
    "        h = self.tconv1(torch.cat([h, h1], dim=1))\n",
    "\n",
    "        h = self.xlayer2(h)\n",
    "    # Normalize output\n",
    "        h = h / self.marginal_prob_std(t)[:, None, None]\n",
    "        return h"
   ]
  },
  {
   "cell_type": "code",
   "execution_count": 19,
   "id": "bdabea1a",
   "metadata": {},
   "outputs": [],
   "source": [
    "score_model_U = ScoreNet_U(shape1=x_train[0].shape[2], shape2=20,marginal_prob_std=marginal_prob_std_fn)\n",
    "score_model_U = score_model_U.cuda()"
   ]
  },
  {
   "cell_type": "code",
   "execution_count": 34,
   "id": "255e17b6",
   "metadata": {},
   "outputs": [
    {
     "data": {
      "application/vnd.jupyter.widget-view+json": {
       "model_id": "a793607725fd454aad8e034b566e0483",
       "version_major": 2,
       "version_minor": 0
      },
      "text/plain": [
       "  0%|          | 0/3000 [00:00<?, ?it/s]"
      ]
     },
     "metadata": {},
     "output_type": "display_data"
    },
    {
     "name": "stderr",
     "output_type": "stream",
     "text": [
      "C:\\Users\\dedaoyan\\AppData\\Local\\Temp\\ipykernel_4712\\1117097296.py:3: UserWarning: To copy construct from a tensor, it is recommended to use sourceTensor.clone().detach() or sourceTensor.clone().detach().requires_grad_(True), rather than torch.tensor(sourceTensor).\n",
      "  t = torch.tensor(t, device = device)\n"
     ]
    },
    {
     "name": "stdout",
     "output_type": "stream",
     "text": [
      "epoch_number: 0, current_loss: 14.201788455247879, best_loss: 1000000\n",
      "epoch_number: 5, current_loss: 6.650736093521118, best_loss: 0.0006753569722175598\n",
      "epoch_number: 10, current_loss: 6.263691276311874, best_loss: 0.0006332458093762398\n",
      "epoch_number: 15, current_loss: 5.843240737915039, best_loss: 0.0006105463370680809\n",
      "epoch_number: 20, current_loss: 5.851132184267044, best_loss: 0.0005791390523314476\n",
      "epoch_number: 25, current_loss: 6.134792774915695, best_loss: 0.0005678046762943267\n",
      "epoch_number: 30, current_loss: 5.836266428232193, best_loss: 0.0005678046762943267\n",
      "epoch_number: 35, current_loss: 5.9088951498270035, best_loss: 0.0005569057747721672\n",
      "epoch_number: 40, current_loss: 5.731345787644386, best_loss: 0.0005561928108334541\n",
      "epoch_number: 45, current_loss: 5.77538338303566, best_loss: 0.0005536489814519883\n",
      "epoch_number: 50, current_loss: 5.335697025060654, best_loss: 0.0005536489814519883\n",
      "epoch_number: 55, current_loss: 5.797326132655144, best_loss: 0.0005335697025060654\n",
      "epoch_number: 60, current_loss: 5.847460180521011, best_loss: 0.0005335697025060654\n",
      "epoch_number: 65, current_loss: 5.347670167684555, best_loss: 0.0005335697025060654\n",
      "epoch_number: 70, current_loss: 5.783490255475044, best_loss: 0.0005335697025060654\n",
      "epoch_number: 75, current_loss: 5.54577462375164, best_loss: 0.0005335697025060654\n",
      "epoch_number: 80, current_loss: 5.201963409781456, best_loss: 0.0005335697025060654\n",
      "epoch_number: 85, current_loss: 5.8281833082437515, best_loss: 0.0005201963409781456\n",
      "epoch_number: 90, current_loss: 5.813107371330261, best_loss: 0.0005201963409781456\n",
      "epoch_number: 95, current_loss: 5.554453954100609, best_loss: 0.0005201963409781456\n",
      "epoch_number: 100, current_loss: 5.537430092692375, best_loss: 0.0005201963409781456\n",
      "epoch_number: 105, current_loss: 5.536911189556122, best_loss: 0.0005201963409781456\n",
      "epoch_number: 110, current_loss: 5.579217031598091, best_loss: 0.0005201963409781456\n",
      "epoch_number: 115, current_loss: 5.6765875071287155, best_loss: 0.0005201963409781456\n",
      "epoch_number: 120, current_loss: 5.60905097424984, best_loss: 0.0005201963409781456\n",
      "epoch_number: 125, current_loss: 5.711679205298424, best_loss: 0.0005201963409781456\n",
      "epoch_number: 130, current_loss: 5.753187924623489, best_loss: 0.0005201963409781456\n",
      "epoch_number: 135, current_loss: 5.477977961301804, best_loss: 0.0005124307245016098\n",
      "epoch_number: 140, current_loss: 5.677120611071587, best_loss: 0.0005124307245016098\n",
      "epoch_number: 145, current_loss: 5.56100469827652, best_loss: 0.0005124307245016098\n",
      "epoch_number: 150, current_loss: 5.470196425914764, best_loss: 0.0005124307245016098\n",
      "epoch_number: 155, current_loss: 5.709906369447708, best_loss: 0.0005124307245016098\n",
      "epoch_number: 160, current_loss: 5.574599251151085, best_loss: 0.0005124307245016098\n",
      "epoch_number: 165, current_loss: 5.326304197311401, best_loss: 0.0005124307245016098\n",
      "epoch_number: 170, current_loss: 5.542864799499512, best_loss: 0.0005124307245016098\n",
      "epoch_number: 175, current_loss: 5.522283762693405, best_loss: 0.0005124307245016098\n",
      "epoch_number: 180, current_loss: 5.667856469750404, best_loss: 0.0005124307245016098\n",
      "epoch_number: 185, current_loss: 5.427924185991287, best_loss: 0.0005124307245016098\n",
      "epoch_number: 190, current_loss: 5.727991551160812, best_loss: 0.0005124307245016098\n",
      "epoch_number: 195, current_loss: 5.523746162652969, best_loss: 0.0005124307245016098\n",
      "epoch_number: 200, current_loss: 5.51946322619915, best_loss: 0.0005124307245016098\n",
      "epoch_number: 205, current_loss: 5.605968803167343, best_loss: 0.0005124307245016098\n",
      "epoch_number: 210, current_loss: 5.703057333827019, best_loss: 0.0005124307245016098\n",
      "epoch_number: 215, current_loss: 5.542811647057533, best_loss: 0.0005124307245016098\n",
      "epoch_number: 220, current_loss: 5.744971871376038, best_loss: 0.0005124307245016098\n",
      "epoch_number: 225, current_loss: 5.4136450588703156, best_loss: 0.0005124307245016098\n",
      "epoch_number: 230, current_loss: 5.644771456718445, best_loss: 0.0005124307245016098\n",
      "epoch_number: 235, current_loss: 5.269837930798531, best_loss: 0.0005124307245016098\n",
      "epoch_number: 240, current_loss: 5.526938661932945, best_loss: 0.0005124307245016098\n",
      "epoch_number: 245, current_loss: 5.593878477811813, best_loss: 0.0005124307245016098\n",
      "epoch_number: 250, current_loss: 5.416726380586624, best_loss: 0.0005124307245016098\n",
      "epoch_number: 255, current_loss: 5.472041264176369, best_loss: 0.0005124307245016098\n",
      "epoch_number: 260, current_loss: 5.5815296322107315, best_loss: 0.0005124307245016098\n",
      "epoch_number: 265, current_loss: 5.471166580915451, best_loss: 0.0005124307245016098\n",
      "epoch_number: 270, current_loss: 5.663800463080406, best_loss: 0.0005124307245016098\n",
      "epoch_number: 275, current_loss: 5.5773521810770035, best_loss: 0.0005124307245016098\n",
      "epoch_number: 280, current_loss: 5.602472633123398, best_loss: 0.0005124307245016098\n",
      "epoch_number: 285, current_loss: 5.530575215816498, best_loss: 0.0005124307245016098\n",
      "epoch_number: 290, current_loss: 5.643422499299049, best_loss: 0.0005124307245016098\n",
      "epoch_number: 295, current_loss: 5.455133348703384, best_loss: 0.0005124307245016098\n",
      "epoch_number: 300, current_loss: 5.427070930600166, best_loss: 0.0005124307245016098\n",
      "epoch_number: 305, current_loss: 5.591908320784569, best_loss: 0.0005124307245016098\n",
      "epoch_number: 310, current_loss: 5.574384018778801, best_loss: 0.0005124307245016098\n",
      "epoch_number: 315, current_loss: 5.406850442290306, best_loss: 0.0005124307245016098\n",
      "epoch_number: 320, current_loss: 5.536122485995293, best_loss: 0.0005124307245016098\n",
      "epoch_number: 325, current_loss: 5.604245528578758, best_loss: 0.0005124307245016098\n",
      "epoch_number: 330, current_loss: 5.369690254330635, best_loss: 0.0005124307245016098\n",
      "epoch_number: 335, current_loss: 5.336971163749695, best_loss: 0.0005124307245016098\n",
      "epoch_number: 340, current_loss: 5.433603346347809, best_loss: 0.0005124307245016098\n",
      "epoch_number: 345, current_loss: 5.649672299623489, best_loss: 0.0005124307245016098\n",
      "epoch_number: 350, current_loss: 5.854736968874931, best_loss: 0.0005124307245016098\n",
      "epoch_number: 355, current_loss: 5.650235965847969, best_loss: 0.0005124307245016098\n",
      "epoch_number: 360, current_loss: 5.414329811930656, best_loss: 0.0005124307245016098\n",
      "epoch_number: 365, current_loss: 5.285272642970085, best_loss: 0.0005124307245016098\n",
      "epoch_number: 370, current_loss: 5.286034047603607, best_loss: 0.0005124307245016098\n",
      "epoch_number: 375, current_loss: 5.457060053944588, best_loss: 0.0005124307245016098\n",
      "epoch_number: 380, current_loss: 5.500443443655968, best_loss: 0.0005124307245016098\n",
      "epoch_number: 385, current_loss: 5.629039719700813, best_loss: 0.0005124307245016098\n",
      "epoch_number: 390, current_loss: 5.585920661687851, best_loss: 0.0005124307245016098\n",
      "epoch_number: 395, current_loss: 5.624831572175026, best_loss: 0.0005124307245016098\n",
      "epoch_number: 400, current_loss: 5.484555959701538, best_loss: 0.0005124307245016098\n",
      "epoch_number: 405, current_loss: 5.734724715352058, best_loss: 0.0005124307245016098\n",
      "epoch_number: 410, current_loss: 5.205594226717949, best_loss: 0.0005124307245016098\n",
      "epoch_number: 415, current_loss: 5.421573996543884, best_loss: 0.0005124307245016098\n",
      "epoch_number: 420, current_loss: 5.416760087013245, best_loss: 0.0005124307245016098\n",
      "epoch_number: 425, current_loss: 5.546351820230484, best_loss: 0.0005124307245016098\n",
      "epoch_number: 430, current_loss: 5.442862644791603, best_loss: 0.0005124307245016098\n",
      "epoch_number: 435, current_loss: 5.473549738526344, best_loss: 0.0005124307245016098\n",
      "epoch_number: 440, current_loss: 5.446630895137787, best_loss: 0.0005124307245016098\n",
      "epoch_number: 445, current_loss: 5.499078616499901, best_loss: 0.0005124307245016098\n",
      "epoch_number: 450, current_loss: 5.238215699791908, best_loss: 0.0005124307245016098\n",
      "epoch_number: 455, current_loss: 5.614367231726646, best_loss: 0.0005124307245016098\n",
      "epoch_number: 460, current_loss: 5.581619411706924, best_loss: 0.0005124307245016098\n",
      "epoch_number: 465, current_loss: 5.556248694658279, best_loss: 0.0005124307245016098\n",
      "epoch_number: 470, current_loss: 5.669702023267746, best_loss: 0.0005124307245016098\n",
      "epoch_number: 475, current_loss: 5.397583365440369, best_loss: 0.0005124307245016098\n",
      "epoch_number: 480, current_loss: 5.474450498819351, best_loss: 0.0005124307245016098\n",
      "epoch_number: 485, current_loss: 5.519865408539772, best_loss: 0.0005124307245016098\n",
      "epoch_number: 490, current_loss: 5.672415643930435, best_loss: 0.0005124307245016098\n",
      "epoch_number: 495, current_loss: 5.304301202297211, best_loss: 0.0005124307245016098\n",
      "epoch_number: 500, current_loss: 5.407071486115456, best_loss: 0.0005124307245016098\n",
      "epoch_number: 505, current_loss: 5.5811630338430405, best_loss: 0.0005124307245016098\n",
      "epoch_number: 510, current_loss: 5.573654070496559, best_loss: 0.0005124307245016098\n",
      "epoch_number: 515, current_loss: 5.5902429074049, best_loss: 0.0005124307245016098\n",
      "epoch_number: 520, current_loss: 5.554429888725281, best_loss: 0.0005124307245016098\n",
      "epoch_number: 525, current_loss: 5.53449521958828, best_loss: 0.0005124307245016098\n",
      "epoch_number: 530, current_loss: 5.519797042012215, best_loss: 0.0005124307245016098\n",
      "epoch_number: 535, current_loss: 5.4817875027656555, best_loss: 0.0005124307245016098\n",
      "epoch_number: 540, current_loss: 5.373271882534027, best_loss: 0.0005095659643411636\n",
      "epoch_number: 545, current_loss: 5.398010030388832, best_loss: 0.0005095659643411636\n",
      "epoch_number: 550, current_loss: 5.415507361292839, best_loss: 0.0005095659643411636\n",
      "epoch_number: 555, current_loss: 5.666421517729759, best_loss: 0.0005095659643411636\n",
      "epoch_number: 560, current_loss: 5.609181359410286, best_loss: 0.0005095659643411636\n",
      "epoch_number: 565, current_loss: 5.704894185066223, best_loss: 0.0005095659643411636\n",
      "epoch_number: 570, current_loss: 5.641248926520348, best_loss: 0.0005095659643411636\n",
      "epoch_number: 575, current_loss: 5.229400247335434, best_loss: 0.0005095659643411636\n",
      "epoch_number: 580, current_loss: 5.552451282739639, best_loss: 0.0005095659643411636\n",
      "epoch_number: 585, current_loss: 5.672737389802933, best_loss: 0.0005095659643411636\n",
      "epoch_number: 590, current_loss: 5.516201168298721, best_loss: 0.0005095659643411636\n",
      "epoch_number: 595, current_loss: 5.423340395092964, best_loss: 0.0005095659643411636\n",
      "epoch_number: 600, current_loss: 5.517317980527878, best_loss: 0.0005095659643411636\n",
      "epoch_number: 605, current_loss: 5.516313478350639, best_loss: 0.0005095659643411636\n",
      "epoch_number: 610, current_loss: 5.430486962199211, best_loss: 0.0005095659643411636\n",
      "epoch_number: 615, current_loss: 5.6216451823711395, best_loss: 0.0005095659643411636\n",
      "epoch_number: 620, current_loss: 5.398455694317818, best_loss: 0.0005095659643411636\n",
      "epoch_number: 625, current_loss: 5.578736305236816, best_loss: 0.0005095659643411636\n",
      "epoch_number: 630, current_loss: 5.626454845070839, best_loss: 0.0005095659643411636\n",
      "epoch_number: 635, current_loss: 5.635808780789375, best_loss: 0.0005095659643411636\n",
      "epoch_number: 640, current_loss: 5.429820746183395, best_loss: 0.0005095659643411636\n",
      "epoch_number: 645, current_loss: 5.465458482503891, best_loss: 0.0005095659643411636\n",
      "epoch_number: 650, current_loss: 5.547035843133926, best_loss: 0.0005095659643411636\n",
      "epoch_number: 655, current_loss: 5.347801834344864, best_loss: 0.0005095659643411636\n",
      "epoch_number: 660, current_loss: 5.599971130490303, best_loss: 0.0005095659643411636\n",
      "epoch_number: 665, current_loss: 5.515839591622353, best_loss: 0.0005095659643411636\n",
      "epoch_number: 670, current_loss: 5.55041578412056, best_loss: 0.0005095659643411636\n",
      "epoch_number: 675, current_loss: 5.736602559685707, best_loss: 0.0005095659643411636\n",
      "epoch_number: 680, current_loss: 5.358925089240074, best_loss: 0.0005095659643411636\n",
      "epoch_number: 685, current_loss: 5.339188784360886, best_loss: 0.0005095659643411636\n",
      "epoch_number: 690, current_loss: 5.544589728116989, best_loss: 0.0005095659643411636\n",
      "epoch_number: 695, current_loss: 5.364902824163437, best_loss: 0.0005095659643411636\n",
      "epoch_number: 700, current_loss: 5.394996419548988, best_loss: 0.0005095659643411636\n",
      "epoch_number: 705, current_loss: 5.744569942355156, best_loss: 0.0005095659643411636\n",
      "epoch_number: 710, current_loss: 5.248088449239731, best_loss: 0.0005095659643411636\n",
      "epoch_number: 715, current_loss: 5.64329881966114, best_loss: 0.0005095659643411636\n",
      "epoch_number: 720, current_loss: 5.575885996222496, best_loss: 0.0005095659643411636\n",
      "epoch_number: 725, current_loss: 5.512936919927597, best_loss: 0.0005095659643411636\n",
      "epoch_number: 730, current_loss: 5.498138606548309, best_loss: 0.0005095659643411636\n",
      "epoch_number: 735, current_loss: 5.607353210449219, best_loss: 0.0005095659643411636\n",
      "epoch_number: 740, current_loss: 5.8730906546115875, best_loss: 0.0005095659643411636\n",
      "epoch_number: 745, current_loss: 5.517226740717888, best_loss: 0.0005095659643411636\n",
      "epoch_number: 750, current_loss: 5.393545642495155, best_loss: 0.0005095659643411636\n",
      "epoch_number: 755, current_loss: 5.659724593162537, best_loss: 0.0005095659643411636\n",
      "epoch_number: 760, current_loss: 5.550901681184769, best_loss: 0.0005095659643411636\n",
      "epoch_number: 765, current_loss: 5.399811327457428, best_loss: 0.0005095659643411636\n",
      "epoch_number: 770, current_loss: 5.332517847418785, best_loss: 0.0005095659643411636\n",
      "epoch_number: 775, current_loss: 5.475700810551643, best_loss: 0.0005095659643411636\n",
      "epoch_number: 780, current_loss: 5.872111424803734, best_loss: 0.0005095659643411636\n",
      "epoch_number: 785, current_loss: 5.544838324189186, best_loss: 0.0005095659643411636\n",
      "epoch_number: 790, current_loss: 5.508385270833969, best_loss: 0.0005095659643411636\n",
      "epoch_number: 795, current_loss: 5.502048134803772, best_loss: 0.0005095659643411636\n",
      "epoch_number: 800, current_loss: 5.605567008256912, best_loss: 0.0005095659643411636\n",
      "epoch_number: 805, current_loss: 5.321381151676178, best_loss: 0.0005095659643411636\n",
      "epoch_number: 810, current_loss: 5.5947452783584595, best_loss: 0.0005095659643411636\n",
      "epoch_number: 815, current_loss: 5.450081214308739, best_loss: 0.0005095659643411636\n",
      "epoch_number: 820, current_loss: 5.574093520641327, best_loss: 0.0005095659643411636\n",
      "epoch_number: 825, current_loss: 5.566538691520691, best_loss: 0.0005095659643411636\n",
      "epoch_number: 830, current_loss: 5.4332630932331085, best_loss: 0.0005095659643411636\n",
      "epoch_number: 835, current_loss: 5.387383937835693, best_loss: 0.0005095659643411636\n",
      "epoch_number: 840, current_loss: 5.633954852819443, best_loss: 0.0005095659643411636\n",
      "epoch_number: 845, current_loss: 5.427729576826096, best_loss: 0.0005095659643411636\n",
      "epoch_number: 850, current_loss: 5.53997977077961, best_loss: 0.0005095659643411636\n",
      "epoch_number: 855, current_loss: 5.602230370044708, best_loss: 0.0005095659643411636\n",
      "epoch_number: 860, current_loss: 5.4967504143714905, best_loss: 0.0005095659643411636\n",
      "epoch_number: 865, current_loss: 5.442538574337959, best_loss: 0.0005095659643411636\n",
      "epoch_number: 870, current_loss: 5.23043267428875, best_loss: 0.0005095659643411636\n",
      "epoch_number: 875, current_loss: 5.637671545147896, best_loss: 0.0005095659643411636\n",
      "epoch_number: 880, current_loss: 5.515612795948982, best_loss: 0.0005095659643411636\n",
      "epoch_number: 885, current_loss: 5.435762599110603, best_loss: 0.0005095659643411636\n",
      "epoch_number: 890, current_loss: 5.536500468850136, best_loss: 0.0005095659643411636\n",
      "epoch_number: 895, current_loss: 5.569796904921532, best_loss: 0.0005095659643411636\n",
      "epoch_number: 900, current_loss: 5.528479903936386, best_loss: 0.0005095659643411636\n",
      "epoch_number: 905, current_loss: 5.746255710721016, best_loss: 0.0005095659643411636\n",
      "epoch_number: 910, current_loss: 5.634516671299934, best_loss: 0.0005095659643411636\n",
      "epoch_number: 915, current_loss: 5.449726700782776, best_loss: 0.0005095659643411636\n",
      "epoch_number: 920, current_loss: 5.540353670716286, best_loss: 0.0005095659643411636\n",
      "epoch_number: 925, current_loss: 5.408353462815285, best_loss: 0.0005095659643411636\n",
      "epoch_number: 930, current_loss: 5.596179693937302, best_loss: 0.0005095659643411636\n",
      "epoch_number: 935, current_loss: 5.676322296261787, best_loss: 0.0005095659643411636\n",
      "epoch_number: 940, current_loss: 5.530021175742149, best_loss: 0.0005095659643411636\n",
      "epoch_number: 945, current_loss: 5.822079062461853, best_loss: 0.0005095659643411636\n",
      "epoch_number: 950, current_loss: 5.534756705164909, best_loss: 0.0005095659643411636\n",
      "epoch_number: 955, current_loss: 5.520872965455055, best_loss: 0.0005095659643411636\n",
      "epoch_number: 960, current_loss: 5.68738254904747, best_loss: 0.0005095659643411636\n",
      "epoch_number: 965, current_loss: 5.57347646355629, best_loss: 0.0005095659643411636\n",
      "epoch_number: 970, current_loss: 5.371989086270332, best_loss: 0.0005095659643411636\n",
      "epoch_number: 975, current_loss: 5.485581204295158, best_loss: 0.0005095659643411636\n",
      "epoch_number: 980, current_loss: 5.62220174074173, best_loss: 0.0005095659643411636\n",
      "epoch_number: 985, current_loss: 5.464411944150925, best_loss: 0.0005095659643411636\n",
      "epoch_number: 990, current_loss: 5.634896874427795, best_loss: 0.0005095659643411636\n",
      "epoch_number: 995, current_loss: 5.41956639289856, best_loss: 0.0005095659643411636\n",
      "epoch_number: 1000, current_loss: 5.586559951305389, best_loss: 0.0005095659643411636\n",
      "epoch_number: 1005, current_loss: 5.402143090963364, best_loss: 0.0005095659643411636\n",
      "epoch_number: 1010, current_loss: 5.6587061285972595, best_loss: 0.0005095659643411636\n",
      "epoch_number: 1015, current_loss: 5.388964295387268, best_loss: 0.0005095659643411636\n",
      "epoch_number: 1020, current_loss: 5.44590736925602, best_loss: 0.0005095659643411636\n",
      "epoch_number: 1025, current_loss: 5.565604001283646, best_loss: 0.0005095659643411636\n",
      "epoch_number: 1030, current_loss: 5.62246410548687, best_loss: 0.0005095659643411636\n",
      "epoch_number: 1035, current_loss: 5.456246599555016, best_loss: 0.0005095659643411636\n",
      "epoch_number: 1040, current_loss: 5.5038426369428635, best_loss: 0.0005095659643411636\n",
      "epoch_number: 1045, current_loss: 5.440110146999359, best_loss: 0.0005095659643411636\n",
      "epoch_number: 1050, current_loss: 5.453025177121162, best_loss: 0.0005095659643411636\n",
      "epoch_number: 1055, current_loss: 5.271977111697197, best_loss: 0.0005095659643411636\n",
      "epoch_number: 1060, current_loss: 5.4385896772146225, best_loss: 0.0005095659643411636\n",
      "epoch_number: 1065, current_loss: 5.806069508194923, best_loss: 0.0005095659643411636\n",
      "epoch_number: 1070, current_loss: 5.4760352820158005, best_loss: 0.0005095659643411636\n",
      "epoch_number: 1075, current_loss: 5.50200380384922, best_loss: 0.0005095659643411636\n",
      "epoch_number: 1080, current_loss: 5.774958044290543, best_loss: 0.0005095659643411636\n",
      "epoch_number: 1085, current_loss: 5.5574236661195755, best_loss: 0.0005095659643411636\n",
      "epoch_number: 1090, current_loss: 5.544561341404915, best_loss: 0.0005095659643411636\n",
      "epoch_number: 1095, current_loss: 5.23683774471283, best_loss: 0.0005095659643411636\n",
      "epoch_number: 1100, current_loss: 5.655968979001045, best_loss: 0.0005095659643411636\n",
      "epoch_number: 1105, current_loss: 5.432520195841789, best_loss: 0.0005095659643411636\n",
      "epoch_number: 1110, current_loss: 5.763735920190811, best_loss: 0.0005095659643411636\n",
      "epoch_number: 1115, current_loss: 5.732853129506111, best_loss: 0.0005095659643411636\n",
      "epoch_number: 1120, current_loss: 5.4831565618515015, best_loss: 0.0005095659643411636\n",
      "epoch_number: 1125, current_loss: 5.458705902099609, best_loss: 0.0005095659643411636\n",
      "epoch_number: 1130, current_loss: 5.5162918120622635, best_loss: 0.0005095659643411636\n",
      "epoch_number: 1135, current_loss: 5.719987481832504, best_loss: 0.0005095659643411636\n",
      "epoch_number: 1140, current_loss: 5.666574522852898, best_loss: 0.0005095659643411636\n",
      "epoch_number: 1145, current_loss: 5.392977029085159, best_loss: 0.0005095659643411636\n",
      "epoch_number: 1150, current_loss: 5.432956114411354, best_loss: 0.0005095659643411636\n",
      "epoch_number: 1155, current_loss: 5.779856979846954, best_loss: 0.0005095659643411636\n",
      "epoch_number: 1160, current_loss: 5.437398180365562, best_loss: 0.0005095659643411636\n",
      "epoch_number: 1165, current_loss: 5.418586552143097, best_loss: 0.0005095659643411636\n",
      "epoch_number: 1170, current_loss: 5.350039944052696, best_loss: 0.0005095659643411636\n",
      "epoch_number: 1175, current_loss: 5.369525328278542, best_loss: 0.0005095659643411636\n",
      "epoch_number: 1180, current_loss: 5.371065855026245, best_loss: 0.0005095659643411636\n",
      "epoch_number: 1185, current_loss: 5.412145167589188, best_loss: 0.0005095659643411636\n",
      "epoch_number: 1190, current_loss: 5.636852607131004, best_loss: 0.0005095659643411636\n",
      "epoch_number: 1195, current_loss: 5.281811758875847, best_loss: 0.0005095659643411636\n",
      "epoch_number: 1200, current_loss: 5.412041455507278, best_loss: 0.0005095659643411636\n",
      "epoch_number: 1205, current_loss: 5.588591903448105, best_loss: 0.0005095659643411636\n",
      "epoch_number: 1210, current_loss: 5.641229972243309, best_loss: 0.0005095659643411636\n",
      "epoch_number: 1215, current_loss: 5.63128025829792, best_loss: 0.0005095659643411636\n",
      "epoch_number: 1220, current_loss: 5.626072630286217, best_loss: 0.0005095659643411636\n",
      "epoch_number: 1225, current_loss: 5.54888828098774, best_loss: 0.0005095659643411636\n",
      "epoch_number: 1230, current_loss: 5.365923717617989, best_loss: 0.0005095659643411636\n",
      "epoch_number: 1235, current_loss: 5.343766033649445, best_loss: 0.0005095659643411636\n",
      "epoch_number: 1240, current_loss: 5.635521113872528, best_loss: 0.0005095659643411636\n",
      "epoch_number: 1245, current_loss: 5.506788179278374, best_loss: 0.0005095659643411636\n",
      "epoch_number: 1250, current_loss: 5.200599551200867, best_loss: 0.0005095659643411636\n",
      "epoch_number: 1255, current_loss: 5.552370950579643, best_loss: 0.0005095659643411636\n",
      "epoch_number: 1260, current_loss: 5.455553114414215, best_loss: 0.0005095659643411636\n",
      "epoch_number: 1265, current_loss: 5.382862538099289, best_loss: 0.0005095659643411636\n",
      "epoch_number: 1270, current_loss: 5.619987577199936, best_loss: 0.0005095659643411636\n",
      "epoch_number: 1275, current_loss: 5.364158391952515, best_loss: 0.0005095659643411636\n",
      "epoch_number: 1280, current_loss: 5.66196545958519, best_loss: 0.0005095659643411636\n",
      "epoch_number: 1285, current_loss: 5.4830265790224075, best_loss: 0.0005095659643411636\n",
      "epoch_number: 1290, current_loss: 5.618011876940727, best_loss: 0.0005095659643411636\n",
      "epoch_number: 1295, current_loss: 5.346992388367653, best_loss: 0.0005095659643411636\n",
      "epoch_number: 1300, current_loss: 5.543754190206528, best_loss: 0.0005095659643411636\n",
      "epoch_number: 1305, current_loss: 5.331590056419373, best_loss: 0.0005095659643411636\n",
      "epoch_number: 1310, current_loss: 5.449861109256744, best_loss: 0.0005095659643411636\n",
      "epoch_number: 1315, current_loss: 5.427060782909393, best_loss: 0.0005095659643411636\n",
      "epoch_number: 1320, current_loss: 5.5321550369262695, best_loss: 0.0005095659643411636\n",
      "epoch_number: 1325, current_loss: 5.46647983789444, best_loss: 0.0005095659643411636\n",
      "epoch_number: 1330, current_loss: 5.401918441057205, best_loss: 0.0005095659643411636\n",
      "epoch_number: 1335, current_loss: 5.503210082650185, best_loss: 0.0005095659643411636\n",
      "epoch_number: 1340, current_loss: 5.33807036280632, best_loss: 0.0005095659643411636\n",
      "epoch_number: 1345, current_loss: 5.35755318403244, best_loss: 0.0005095659643411636\n",
      "epoch_number: 1350, current_loss: 5.82984521985054, best_loss: 0.0005095659643411636\n",
      "epoch_number: 1355, current_loss: 5.491386979818344, best_loss: 0.0005095659643411636\n",
      "epoch_number: 1360, current_loss: 5.493747293949127, best_loss: 0.0005095659643411636\n",
      "epoch_number: 1365, current_loss: 5.542931988835335, best_loss: 0.0005095659643411636\n",
      "epoch_number: 1370, current_loss: 5.530683949589729, best_loss: 0.0005095659643411636\n",
      "epoch_number: 1375, current_loss: 5.434978291392326, best_loss: 0.0005095659643411636\n",
      "epoch_number: 1380, current_loss: 5.438456475734711, best_loss: 0.0005095659643411636\n",
      "epoch_number: 1385, current_loss: 5.451134383678436, best_loss: 0.0005050636783242226\n",
      "epoch_number: 1390, current_loss: 5.316920921206474, best_loss: 0.0005050636783242226\n",
      "epoch_number: 1395, current_loss: 5.422895714640617, best_loss: 0.0005050636783242226\n",
      "epoch_number: 1400, current_loss: 5.439368933439255, best_loss: 0.0005050636783242226\n",
      "epoch_number: 1405, current_loss: 5.571416065096855, best_loss: 0.0005050636783242226\n",
      "epoch_number: 1410, current_loss: 5.4476174265146255, best_loss: 0.0005050636783242226\n",
      "epoch_number: 1415, current_loss: 5.3716865330934525, best_loss: 0.0005050636783242226\n",
      "epoch_number: 1420, current_loss: 5.332988947629929, best_loss: 0.0005050636783242226\n",
      "epoch_number: 1425, current_loss: 5.404509618878365, best_loss: 0.0005050636783242226\n",
      "epoch_number: 1430, current_loss: 5.553643971681595, best_loss: 0.0005050636783242226\n",
      "epoch_number: 1435, current_loss: 5.22683048248291, best_loss: 0.0005050636783242226\n",
      "epoch_number: 1440, current_loss: 5.230437532067299, best_loss: 0.0005050636783242226\n",
      "epoch_number: 1445, current_loss: 5.426673248410225, best_loss: 0.0005050636783242226\n",
      "epoch_number: 1450, current_loss: 5.265624523162842, best_loss: 0.0005050636783242226\n",
      "epoch_number: 1455, current_loss: 5.532396644353867, best_loss: 0.0005050636783242226\n",
      "epoch_number: 1460, current_loss: 5.516324043273926, best_loss: 0.0005050636783242226\n",
      "epoch_number: 1465, current_loss: 5.449465453624725, best_loss: 0.0005050636783242226\n",
      "epoch_number: 1470, current_loss: 5.375774040818214, best_loss: 0.0005050636783242226\n",
      "epoch_number: 1475, current_loss: 5.398348659276962, best_loss: 0.0005050636783242226\n",
      "epoch_number: 1480, current_loss: 5.285887151956558, best_loss: 0.0005050636783242226\n",
      "epoch_number: 1485, current_loss: 5.4230766743421555, best_loss: 0.0005050636783242226\n",
      "epoch_number: 1490, current_loss: 5.468743905425072, best_loss: 0.0005050636783242226\n",
      "epoch_number: 1495, current_loss: 5.499917820096016, best_loss: 0.0005050636783242226\n",
      "epoch_number: 1500, current_loss: 5.365147620439529, best_loss: 0.0005050636783242226\n",
      "epoch_number: 1505, current_loss: 5.460712298750877, best_loss: 0.0005050636783242226\n",
      "epoch_number: 1510, current_loss: 5.4643008559942245, best_loss: 0.0005050636783242226\n",
      "epoch_number: 1515, current_loss: 5.712239071726799, best_loss: 0.0005050636783242226\n",
      "epoch_number: 1520, current_loss: 5.553852900862694, best_loss: 0.0005050636783242226\n",
      "epoch_number: 1525, current_loss: 5.454210326075554, best_loss: 0.0005050636783242226\n",
      "epoch_number: 1530, current_loss: 5.524495929479599, best_loss: 0.0005050636783242226\n",
      "epoch_number: 1535, current_loss: 5.479986637830734, best_loss: 0.0005050636783242226\n",
      "epoch_number: 1540, current_loss: 5.278449818491936, best_loss: 0.0005050636783242226\n",
      "epoch_number: 1545, current_loss: 5.7631950825452805, best_loss: 0.0005050636783242226\n",
      "epoch_number: 1550, current_loss: 5.588500529527664, best_loss: 0.0005050636783242226\n",
      "epoch_number: 1555, current_loss: 5.268427103757858, best_loss: 0.0005050636783242226\n",
      "epoch_number: 1560, current_loss: 5.236137270927429, best_loss: 0.0005050636783242226\n",
      "epoch_number: 1565, current_loss: 5.269984006881714, best_loss: 0.0005050636783242226\n",
      "epoch_number: 1570, current_loss: 5.485722705721855, best_loss: 0.0005050636783242226\n",
      "epoch_number: 1575, current_loss: 5.464426338672638, best_loss: 0.0005050636783242226\n",
      "epoch_number: 1580, current_loss: 5.445684507489204, best_loss: 0.0005050636783242226\n",
      "epoch_number: 1585, current_loss: 5.57237446308136, best_loss: 0.0005050636783242226\n",
      "epoch_number: 1590, current_loss: 5.7295805513858795, best_loss: 0.0005050636783242226\n",
      "epoch_number: 1595, current_loss: 5.593768462538719, best_loss: 0.0005050636783242226\n",
      "epoch_number: 1600, current_loss: 5.620982110500336, best_loss: 0.0005050636783242226\n",
      "epoch_number: 1605, current_loss: 5.623310402035713, best_loss: 0.0005050636783242226\n",
      "epoch_number: 1610, current_loss: 5.740996092557907, best_loss: 0.0005050636783242226\n",
      "epoch_number: 1615, current_loss: 5.383601158857346, best_loss: 0.0005050636783242226\n",
      "epoch_number: 1620, current_loss: 5.458064556121826, best_loss: 0.0005050636783242226\n",
      "epoch_number: 1625, current_loss: 5.655820935964584, best_loss: 0.0005050636783242226\n",
      "epoch_number: 1630, current_loss: 5.669825240969658, best_loss: 0.0005050636783242226\n",
      "epoch_number: 1635, current_loss: 5.530392214655876, best_loss: 0.0005050636783242226\n",
      "epoch_number: 1640, current_loss: 5.464055299758911, best_loss: 0.0005050636783242226\n",
      "epoch_number: 1645, current_loss: 5.622802630066872, best_loss: 0.0005050636783242226\n",
      "epoch_number: 1650, current_loss: 5.555004641413689, best_loss: 0.0005050636783242226\n",
      "epoch_number: 1655, current_loss: 5.489201977849007, best_loss: 0.0005050636783242226\n",
      "epoch_number: 1660, current_loss: 5.607991576194763, best_loss: 0.0005050636783242226\n",
      "epoch_number: 1665, current_loss: 5.342857152223587, best_loss: 0.0005050636783242226\n",
      "epoch_number: 1670, current_loss: 5.459436550736427, best_loss: 0.0005050636783242226\n",
      "epoch_number: 1675, current_loss: 5.605986908078194, best_loss: 0.0005050636783242226\n",
      "epoch_number: 1680, current_loss: 5.553949728608131, best_loss: 0.0005050636783242226\n",
      "epoch_number: 1685, current_loss: 5.5464977622032166, best_loss: 0.0005050636783242226\n",
      "epoch_number: 1690, current_loss: 5.541165053844452, best_loss: 0.0005050636783242226\n",
      "epoch_number: 1695, current_loss: 5.135801926255226, best_loss: 0.0005050636783242226\n",
      "epoch_number: 1700, current_loss: 5.353698238730431, best_loss: 0.0005050636783242226\n",
      "epoch_number: 1705, current_loss: 5.4828574657440186, best_loss: 0.0005050636783242226\n",
      "epoch_number: 1710, current_loss: 5.27592234313488, best_loss: 0.0005050636783242226\n",
      "epoch_number: 1715, current_loss: 5.679501116275787, best_loss: 0.0005050636783242226\n",
      "epoch_number: 1720, current_loss: 5.533763721585274, best_loss: 0.0005050636783242226\n",
      "epoch_number: 1725, current_loss: 5.619300663471222, best_loss: 0.0005050636783242226\n",
      "epoch_number: 1730, current_loss: 5.5001164227724075, best_loss: 0.0005050636783242226\n",
      "epoch_number: 1735, current_loss: 5.7703922390937805, best_loss: 0.0005050636783242226\n",
      "epoch_number: 1740, current_loss: 5.544642075896263, best_loss: 0.0005050636783242226\n",
      "epoch_number: 1745, current_loss: 5.3509403467178345, best_loss: 0.0005050636783242226\n",
      "epoch_number: 1750, current_loss: 5.394216701388359, best_loss: 0.0005050636783242226\n",
      "epoch_number: 1755, current_loss: 5.286405831575394, best_loss: 0.0005050636783242226\n",
      "epoch_number: 1760, current_loss: 5.385546237230301, best_loss: 0.0005050636783242226\n",
      "epoch_number: 1765, current_loss: 5.569667249917984, best_loss: 0.0005050636783242226\n",
      "epoch_number: 1770, current_loss: 5.541461557149887, best_loss: 0.0005050636783242226\n",
      "epoch_number: 1775, current_loss: 5.495202720165253, best_loss: 0.0005050636783242226\n",
      "epoch_number: 1780, current_loss: 5.3727666437625885, best_loss: 0.0005050636783242226\n",
      "epoch_number: 1785, current_loss: 5.278002023696899, best_loss: 0.0005050636783242226\n",
      "epoch_number: 1790, current_loss: 5.430599123239517, best_loss: 0.0005050636783242226\n",
      "epoch_number: 1795, current_loss: 5.493986055254936, best_loss: 0.0005050636783242226\n",
      "epoch_number: 1800, current_loss: 5.609049066901207, best_loss: 0.0005050636783242226\n",
      "epoch_number: 1805, current_loss: 5.534747451543808, best_loss: 0.0005050636783242226\n",
      "epoch_number: 1810, current_loss: 5.251432165503502, best_loss: 0.0005050636783242226\n",
      "epoch_number: 1815, current_loss: 5.418441295623779, best_loss: 0.0005050636783242226\n",
      "epoch_number: 1820, current_loss: 5.51859250664711, best_loss: 0.0005050636783242226\n",
      "epoch_number: 1825, current_loss: 5.519878968596458, best_loss: 0.0005050636783242226\n",
      "epoch_number: 1830, current_loss: 5.454584375023842, best_loss: 0.0005050636783242226\n",
      "epoch_number: 1835, current_loss: 5.329634040594101, best_loss: 0.0005050636783242226\n",
      "epoch_number: 1840, current_loss: 5.4350515604019165, best_loss: 0.0005050636783242226\n",
      "epoch_number: 1845, current_loss: 5.509574264287949, best_loss: 0.0005050636783242226\n",
      "epoch_number: 1850, current_loss: 5.537971511483192, best_loss: 0.0005050636783242226\n",
      "epoch_number: 1855, current_loss: 5.3762064427137375, best_loss: 0.0005050636783242226\n",
      "epoch_number: 1860, current_loss: 5.4108279794454575, best_loss: 0.0005050636783242226\n",
      "epoch_number: 1865, current_loss: 5.350850954651833, best_loss: 0.0005050636783242226\n",
      "epoch_number: 1870, current_loss: 5.452889621257782, best_loss: 0.0005050636783242226\n",
      "epoch_number: 1875, current_loss: 5.455829635262489, best_loss: 0.0005050636783242226\n",
      "epoch_number: 1880, current_loss: 5.56569030880928, best_loss: 0.0005050636783242226\n",
      "epoch_number: 1885, current_loss: 5.581991925835609, best_loss: 0.0005050636783242226\n",
      "epoch_number: 1890, current_loss: 5.559574261307716, best_loss: 0.0005050636783242226\n",
      "epoch_number: 1895, current_loss: 5.510717466473579, best_loss: 0.0005050636783242226\n",
      "epoch_number: 1900, current_loss: 5.672333255410194, best_loss: 0.0005050636783242226\n",
      "epoch_number: 1905, current_loss: 5.2319038808345795, best_loss: 0.0005050636783242226\n",
      "epoch_number: 1910, current_loss: 5.3750234097242355, best_loss: 0.0005050636783242226\n",
      "epoch_number: 1915, current_loss: 5.483896404504776, best_loss: 0.0005050636783242226\n",
      "epoch_number: 1920, current_loss: 5.70481313765049, best_loss: 0.0005050636783242226\n",
      "epoch_number: 1925, current_loss: 5.606421187520027, best_loss: 0.0005050636783242226\n",
      "epoch_number: 1930, current_loss: 5.323741555213928, best_loss: 0.0005050636783242226\n",
      "epoch_number: 1935, current_loss: 5.733953058719635, best_loss: 0.0005050636783242226\n",
      "epoch_number: 1940, current_loss: 5.6429446786642075, best_loss: 0.0005050636783242226\n",
      "epoch_number: 1945, current_loss: 5.4037695825099945, best_loss: 0.0005050636783242226\n",
      "epoch_number: 1950, current_loss: 5.2153439074754715, best_loss: 0.0005050636783242226\n",
      "epoch_number: 1955, current_loss: 5.325521185994148, best_loss: 0.0005050636783242226\n",
      "epoch_number: 1960, current_loss: 5.506662666797638, best_loss: 0.0005050636783242226\n",
      "epoch_number: 1965, current_loss: 5.506609544157982, best_loss: 0.0005050636783242226\n",
      "epoch_number: 1970, current_loss: 5.6896321922540665, best_loss: 0.0005050636783242226\n",
      "epoch_number: 1975, current_loss: 5.316488653421402, best_loss: 0.0005050636783242226\n",
      "epoch_number: 1980, current_loss: 5.453360870480537, best_loss: 0.0005050636783242226\n",
      "epoch_number: 1985, current_loss: 5.531895399093628, best_loss: 0.0005050636783242226\n",
      "epoch_number: 1990, current_loss: 5.521619454026222, best_loss: 0.0005050636783242226\n",
      "epoch_number: 1995, current_loss: 5.420652210712433, best_loss: 0.0005050636783242226\n",
      "epoch_number: 2000, current_loss: 5.711463391780853, best_loss: 0.0005050636783242226\n",
      "epoch_number: 2005, current_loss: 5.56842215359211, best_loss: 0.0005050636783242226\n",
      "epoch_number: 2010, current_loss: 5.384986102581024, best_loss: 0.0005050636783242226\n",
      "epoch_number: 2015, current_loss: 5.406251549720764, best_loss: 0.0005050636783242226\n",
      "epoch_number: 2020, current_loss: 5.551279634237289, best_loss: 0.0005050636783242226\n",
      "epoch_number: 2025, current_loss: 5.314595654606819, best_loss: 0.0005050636783242226\n",
      "epoch_number: 2030, current_loss: 5.603821352124214, best_loss: 0.0005050636783242226\n",
      "epoch_number: 2035, current_loss: 5.4442428201437, best_loss: 0.0005050636783242226\n",
      "epoch_number: 2040, current_loss: 5.534906685352325, best_loss: 0.0005050636783242226\n",
      "epoch_number: 2045, current_loss: 5.601698592305183, best_loss: 0.0005050636783242226\n",
      "epoch_number: 2050, current_loss: 5.379077285528183, best_loss: 0.0005050636783242226\n",
      "epoch_number: 2055, current_loss: 5.569037705659866, best_loss: 0.0005050636783242226\n",
      "epoch_number: 2060, current_loss: 5.369982570409775, best_loss: 0.0005050636783242226\n",
      "epoch_number: 2065, current_loss: 5.72652280330658, best_loss: 0.0005050636783242226\n",
      "epoch_number: 2070, current_loss: 5.749587655067444, best_loss: 0.0005050636783242226\n",
      "epoch_number: 2075, current_loss: 5.476855054497719, best_loss: 0.0005050636783242226\n",
      "epoch_number: 2080, current_loss: 5.450462833046913, best_loss: 0.0005050636783242226\n",
      "epoch_number: 2085, current_loss: 5.534678220748901, best_loss: 0.0005050636783242226\n",
      "epoch_number: 2090, current_loss: 5.579651966691017, best_loss: 0.0005050636783242226\n",
      "epoch_number: 2095, current_loss: 5.532268509268761, best_loss: 0.0005050636783242226\n",
      "epoch_number: 2100, current_loss: 5.372038617730141, best_loss: 0.0005050636783242226\n",
      "epoch_number: 2105, current_loss: 5.5555208921432495, best_loss: 0.0005050636783242226\n",
      "epoch_number: 2110, current_loss: 5.558719947934151, best_loss: 0.0005050636783242226\n",
      "epoch_number: 2115, current_loss: 5.490102246403694, best_loss: 0.0005050636783242226\n",
      "epoch_number: 2120, current_loss: 5.2912797927856445, best_loss: 0.0005050636783242226\n",
      "epoch_number: 2125, current_loss: 5.378805801272392, best_loss: 0.0005050636783242226\n",
      "epoch_number: 2130, current_loss: 5.513802796602249, best_loss: 0.0005050636783242226\n",
      "epoch_number: 2135, current_loss: 5.425471976399422, best_loss: 0.0005050636783242226\n",
      "epoch_number: 2140, current_loss: 5.556774586439133, best_loss: 0.0005050636783242226\n",
      "epoch_number: 2145, current_loss: 5.663076817989349, best_loss: 0.0005050636783242226\n",
      "epoch_number: 2150, current_loss: 5.490151569247246, best_loss: 0.0005050636783242226\n",
      "epoch_number: 2155, current_loss: 5.4051918387413025, best_loss: 0.0005050636783242226\n",
      "epoch_number: 2160, current_loss: 5.4418279230594635, best_loss: 0.0005050636783242226\n",
      "epoch_number: 2165, current_loss: 5.647029519081116, best_loss: 0.0005050636783242226\n",
      "epoch_number: 2170, current_loss: 5.1954528242349625, best_loss: 0.0005050636783242226\n",
      "epoch_number: 2175, current_loss: 5.529741853475571, best_loss: 0.0005050636783242226\n",
      "epoch_number: 2180, current_loss: 5.400879979133606, best_loss: 0.0005050636783242226\n",
      "epoch_number: 2185, current_loss: 5.456354007124901, best_loss: 0.0005050636783242226\n",
      "epoch_number: 2190, current_loss: 5.340211600065231, best_loss: 0.0005050636783242226\n",
      "epoch_number: 2195, current_loss: 5.319200769066811, best_loss: 0.0005050636783242226\n",
      "epoch_number: 2200, current_loss: 5.314021900296211, best_loss: 0.0005050636783242226\n",
      "epoch_number: 2205, current_loss: 5.891744390130043, best_loss: 0.0005050636783242226\n",
      "epoch_number: 2210, current_loss: 5.597326874732971, best_loss: 0.0005050636783242226\n",
      "epoch_number: 2215, current_loss: 5.5847345888614655, best_loss: 0.0005050636783242226\n",
      "epoch_number: 2220, current_loss: 5.5791346579790115, best_loss: 0.0005050636783242226\n",
      "epoch_number: 2225, current_loss: 5.5553720742464066, best_loss: 0.0005050636783242226\n",
      "epoch_number: 2230, current_loss: 5.076109021902084, best_loss: 0.0005050636783242226\n",
      "epoch_number: 2235, current_loss: 5.544816732406616, best_loss: 0.0005050636783242226\n",
      "epoch_number: 2240, current_loss: 5.519653141498566, best_loss: 0.0005050636783242226\n",
      "epoch_number: 2245, current_loss: 5.721437066793442, best_loss: 0.0005050636783242226\n",
      "epoch_number: 2250, current_loss: 5.330615475773811, best_loss: 0.0005050636783242226\n",
      "epoch_number: 2255, current_loss: 5.545996710658073, best_loss: 0.0005050636783242226\n",
      "epoch_number: 2260, current_loss: 5.250672563910484, best_loss: 0.0005050636783242226\n",
      "epoch_number: 2265, current_loss: 5.28526596724987, best_loss: 0.0005050636783242226\n",
      "epoch_number: 2270, current_loss: 5.560775697231293, best_loss: 0.0005050636783242226\n",
      "epoch_number: 2275, current_loss: 5.481370240449905, best_loss: 0.0005050636783242226\n",
      "epoch_number: 2280, current_loss: 5.402699217200279, best_loss: 0.0005050636783242226\n",
      "epoch_number: 2285, current_loss: 5.47271291911602, best_loss: 0.0005050636783242226\n",
      "epoch_number: 2290, current_loss: 5.325521290302277, best_loss: 0.0005050636783242226\n",
      "epoch_number: 2295, current_loss: 5.627257391810417, best_loss: 0.0005050636783242226\n",
      "epoch_number: 2300, current_loss: 5.4841834008693695, best_loss: 0.0005050636783242226\n",
      "epoch_number: 2305, current_loss: 5.465632796287537, best_loss: 0.0005050636783242226\n",
      "epoch_number: 2310, current_loss: 5.577162474393845, best_loss: 0.0005050636783242226\n",
      "epoch_number: 2315, current_loss: 5.4779229909181595, best_loss: 0.0005050636783242226\n",
      "epoch_number: 2320, current_loss: 5.413756400346756, best_loss: 0.0005050636783242226\n",
      "epoch_number: 2325, current_loss: 5.6595074236392975, best_loss: 0.0005050636783242226\n",
      "epoch_number: 2330, current_loss: 5.442495808005333, best_loss: 0.0005050636783242226\n",
      "epoch_number: 2335, current_loss: 5.534535378217697, best_loss: 0.0005050636783242226\n",
      "epoch_number: 2340, current_loss: 5.72026202082634, best_loss: 0.0005050636783242226\n",
      "epoch_number: 2345, current_loss: 5.3744127452373505, best_loss: 0.0005050636783242226\n",
      "epoch_number: 2350, current_loss: 5.237551733851433, best_loss: 0.0005050636783242226\n",
      "epoch_number: 2355, current_loss: 5.578453689813614, best_loss: 0.0005050636783242226\n",
      "epoch_number: 2360, current_loss: 5.421721190214157, best_loss: 0.0005050636783242226\n",
      "epoch_number: 2365, current_loss: 5.364803314208984, best_loss: 0.0005050636783242226\n",
      "epoch_number: 2370, current_loss: 5.393828809261322, best_loss: 0.0005050636783242226\n",
      "epoch_number: 2375, current_loss: 5.319423586130142, best_loss: 0.0005050636783242226\n",
      "epoch_number: 2380, current_loss: 5.602015852928162, best_loss: 0.0005050636783242226\n",
      "epoch_number: 2385, current_loss: 5.693493351340294, best_loss: 0.0005050636783242226\n",
      "epoch_number: 2390, current_loss: 5.512739732861519, best_loss: 0.0005050636783242226\n",
      "epoch_number: 2395, current_loss: 5.569008141756058, best_loss: 0.0005050636783242226\n",
      "epoch_number: 2400, current_loss: 5.373180538415909, best_loss: 0.0005050636783242226\n",
      "epoch_number: 2405, current_loss: 5.443349584937096, best_loss: 0.0005050636783242226\n",
      "epoch_number: 2410, current_loss: 5.382435813546181, best_loss: 0.0005050636783242226\n",
      "epoch_number: 2415, current_loss: 5.559259474277496, best_loss: 0.0005050636783242226\n",
      "epoch_number: 2420, current_loss: 5.316218540072441, best_loss: 0.0005050636783242226\n",
      "epoch_number: 2425, current_loss: 5.363570213317871, best_loss: 0.0005050636783242226\n",
      "epoch_number: 2430, current_loss: 5.6610772758722305, best_loss: 0.0005050636783242226\n",
      "epoch_number: 2435, current_loss: 5.578391373157501, best_loss: 0.0005050636783242226\n",
      "epoch_number: 2440, current_loss: 5.379815474152565, best_loss: 0.0005050636783242226\n",
      "epoch_number: 2445, current_loss: 5.4006200432777405, best_loss: 0.0005050636783242226\n",
      "epoch_number: 2450, current_loss: 5.5651383101940155, best_loss: 0.0005050636783242226\n",
      "epoch_number: 2455, current_loss: 5.577559471130371, best_loss: 0.0005050636783242226\n",
      "epoch_number: 2460, current_loss: 5.546281516551971, best_loss: 0.0005050636783242226\n",
      "epoch_number: 2465, current_loss: 5.381687104701996, best_loss: 0.0005050636783242226\n",
      "epoch_number: 2470, current_loss: 5.7290758192539215, best_loss: 0.0005050636783242226\n",
      "epoch_number: 2475, current_loss: 5.615655481815338, best_loss: 0.0005050636783242226\n",
      "epoch_number: 2480, current_loss: 5.7445181757211685, best_loss: 0.0005050636783242226\n",
      "epoch_number: 2485, current_loss: 5.532124072313309, best_loss: 0.0005050636783242226\n",
      "epoch_number: 2490, current_loss: 5.335297107696533, best_loss: 0.0005050636783242226\n",
      "epoch_number: 2495, current_loss: 5.4016431868076324, best_loss: 0.0005050636783242226\n",
      "epoch_number: 2500, current_loss: 5.660833582282066, best_loss: 0.0005050636783242226\n",
      "epoch_number: 2505, current_loss: 5.404625788331032, best_loss: 0.0005050636783242226\n",
      "epoch_number: 2510, current_loss: 5.580865666270256, best_loss: 0.0005050636783242226\n",
      "epoch_number: 2515, current_loss: 5.325664445757866, best_loss: 0.0005050636783242226\n",
      "epoch_number: 2520, current_loss: 5.398554489016533, best_loss: 0.0005050636783242226\n",
      "epoch_number: 2525, current_loss: 5.43472695350647, best_loss: 0.0005050636783242226\n",
      "epoch_number: 2530, current_loss: 5.422509059309959, best_loss: 0.0005050636783242226\n",
      "epoch_number: 2535, current_loss: 5.468543693423271, best_loss: 0.0005050636783242226\n",
      "epoch_number: 2540, current_loss: 5.366192117333412, best_loss: 0.0005050636783242226\n",
      "epoch_number: 2545, current_loss: 5.654170513153076, best_loss: 0.0005050636783242226\n",
      "epoch_number: 2550, current_loss: 5.503921657800674, best_loss: 0.0005050636783242226\n",
      "epoch_number: 2555, current_loss: 5.590511724352837, best_loss: 0.0005050636783242226\n",
      "epoch_number: 2560, current_loss: 5.431626334786415, best_loss: 0.0005050636783242226\n",
      "epoch_number: 2565, current_loss: 5.646965220570564, best_loss: 0.0005050636783242226\n",
      "epoch_number: 2570, current_loss: 5.618582203984261, best_loss: 0.0005050636783242226\n",
      "epoch_number: 2575, current_loss: 5.443389818072319, best_loss: 0.0005050636783242226\n",
      "epoch_number: 2580, current_loss: 5.525475308299065, best_loss: 0.0005050636783242226\n",
      "epoch_number: 2585, current_loss: 5.643900081515312, best_loss: 0.0005050636783242226\n",
      "epoch_number: 2590, current_loss: 5.397875860333443, best_loss: 0.0005050636783242226\n",
      "epoch_number: 2595, current_loss: 5.607078492641449, best_loss: 0.0005050636783242226\n",
      "epoch_number: 2600, current_loss: 5.56889034807682, best_loss: 0.0005050636783242226\n",
      "epoch_number: 2605, current_loss: 5.069290831685066, best_loss: 0.0005050636783242226\n",
      "epoch_number: 2610, current_loss: 5.376983553171158, best_loss: 0.0005050636783242226\n",
      "epoch_number: 2615, current_loss: 5.612612843513489, best_loss: 0.0005050636783242226\n",
      "epoch_number: 2620, current_loss: 5.368568882346153, best_loss: 0.0005050636783242226\n",
      "epoch_number: 2625, current_loss: 5.557709068059921, best_loss: 0.0005050636783242226\n",
      "epoch_number: 2630, current_loss: 5.454764753580093, best_loss: 0.0005050636783242226\n",
      "epoch_number: 2635, current_loss: 5.7798939645290375, best_loss: 0.0005050636783242226\n",
      "epoch_number: 2640, current_loss: 5.350085079669952, best_loss: 0.0005050636783242226\n",
      "epoch_number: 2645, current_loss: 5.440526232123375, best_loss: 0.0005050636783242226\n",
      "epoch_number: 2650, current_loss: 5.49351692199707, best_loss: 0.0005050636783242226\n",
      "epoch_number: 2655, current_loss: 5.250234469771385, best_loss: 0.0005050636783242226\n",
      "epoch_number: 2660, current_loss: 5.425093159079552, best_loss: 0.0005050636783242226\n",
      "epoch_number: 2665, current_loss: 5.438457906246185, best_loss: 0.0005050636783242226\n",
      "epoch_number: 2670, current_loss: 5.288758561015129, best_loss: 0.0005050636783242226\n",
      "epoch_number: 2675, current_loss: 5.486836269497871, best_loss: 0.0005050636783242226\n",
      "epoch_number: 2680, current_loss: 5.466523826122284, best_loss: 0.0005050636783242226\n",
      "epoch_number: 2685, current_loss: 5.46305513381958, best_loss: 0.0005050636783242226\n",
      "epoch_number: 2690, current_loss: 5.603705108165741, best_loss: 0.0005050636783242226\n",
      "epoch_number: 2695, current_loss: 5.593086451292038, best_loss: 0.0005050636783242226\n",
      "epoch_number: 2700, current_loss: 5.499377369880676, best_loss: 0.0005050636783242226\n",
      "epoch_number: 2705, current_loss: 5.662406861782074, best_loss: 0.0005050636783242226\n",
      "epoch_number: 2710, current_loss: 5.518325760960579, best_loss: 0.0005050636783242226\n",
      "epoch_number: 2715, current_loss: 5.335920602083206, best_loss: 0.0005050636783242226\n",
      "epoch_number: 2720, current_loss: 5.614616721868515, best_loss: 0.0005050636783242226\n",
      "epoch_number: 2725, current_loss: 5.5240790992975235, best_loss: 0.0005050636783242226\n",
      "epoch_number: 2730, current_loss: 5.292379483580589, best_loss: 0.0005050636783242226\n",
      "epoch_number: 2735, current_loss: 5.3026552349328995, best_loss: 0.0005050636783242226\n",
      "epoch_number: 2740, current_loss: 5.404387563467026, best_loss: 0.0005050636783242226\n",
      "epoch_number: 2745, current_loss: 5.475656718015671, best_loss: 0.0005050636783242226\n",
      "epoch_number: 2750, current_loss: 5.7475297302007675, best_loss: 0.0005050636783242226\n",
      "epoch_number: 2755, current_loss: 5.22742523252964, best_loss: 0.0005050636783242226\n",
      "epoch_number: 2760, current_loss: 5.594940423965454, best_loss: 0.0005050636783242226\n",
      "epoch_number: 2765, current_loss: 5.548790022730827, best_loss: 0.0005050636783242226\n",
      "epoch_number: 2770, current_loss: 5.387700289487839, best_loss: 0.0005050636783242226\n",
      "epoch_number: 2775, current_loss: 5.519867435097694, best_loss: 0.0005050636783242226\n",
      "epoch_number: 2780, current_loss: 5.646243721246719, best_loss: 0.0005050636783242226\n",
      "epoch_number: 2785, current_loss: 5.305871441960335, best_loss: 0.0005050636783242226\n",
      "epoch_number: 2790, current_loss: 5.2902209013700485, best_loss: 0.0005050636783242226\n",
      "epoch_number: 2795, current_loss: 5.675655871629715, best_loss: 0.0005050636783242226\n",
      "epoch_number: 2800, current_loss: 5.542828157544136, best_loss: 0.0005050636783242226\n",
      "epoch_number: 2805, current_loss: 5.410493105649948, best_loss: 0.0005050636783242226\n",
      "epoch_number: 2810, current_loss: 5.599169492721558, best_loss: 0.0005050636783242226\n",
      "epoch_number: 2815, current_loss: 5.408319786190987, best_loss: 0.0005050636783242226\n",
      "epoch_number: 2820, current_loss: 5.32961043715477, best_loss: 0.0005050636783242226\n",
      "epoch_number: 2825, current_loss: 5.5138155817985535, best_loss: 0.0005050636783242226\n",
      "epoch_number: 2830, current_loss: 5.602206259965897, best_loss: 0.0005050636783242226\n",
      "epoch_number: 2835, current_loss: 5.45186610519886, best_loss: 0.0005050636783242226\n",
      "epoch_number: 2840, current_loss: 5.688071578741074, best_loss: 0.0005050636783242226\n",
      "epoch_number: 2845, current_loss: 5.3458113223314285, best_loss: 0.0005050636783242226\n",
      "epoch_number: 2850, current_loss: 5.6676387041807175, best_loss: 0.0005050636783242226\n",
      "epoch_number: 2855, current_loss: 5.541393131017685, best_loss: 0.0005050636783242226\n",
      "epoch_number: 2860, current_loss: 5.378397196531296, best_loss: 0.0005050636783242226\n",
      "epoch_number: 2865, current_loss: 5.589929774403572, best_loss: 0.0005050636783242226\n",
      "epoch_number: 2870, current_loss: 5.413751244544983, best_loss: 0.0005050636783242226\n",
      "epoch_number: 2875, current_loss: 5.826293885707855, best_loss: 0.0005050636783242226\n",
      "epoch_number: 2880, current_loss: 5.306291401386261, best_loss: 0.0005050636783242226\n",
      "epoch_number: 2885, current_loss: 5.720837846398354, best_loss: 0.0005050636783242226\n",
      "epoch_number: 2890, current_loss: 5.475673124194145, best_loss: 0.0005050636783242226\n",
      "epoch_number: 2895, current_loss: 5.455488801002502, best_loss: 0.0005050636783242226\n",
      "epoch_number: 2900, current_loss: 5.571874305605888, best_loss: 0.0005050636783242226\n",
      "epoch_number: 2905, current_loss: 5.518041908740997, best_loss: 0.0005050636783242226\n",
      "epoch_number: 2910, current_loss: 5.286016270518303, best_loss: 0.0005050636783242226\n",
      "epoch_number: 2915, current_loss: 5.573353424668312, best_loss: 0.0005050636783242226\n",
      "epoch_number: 2920, current_loss: 5.352085649967194, best_loss: 0.0005050636783242226\n",
      "epoch_number: 2925, current_loss: 5.725097507238388, best_loss: 0.0005050636783242226\n",
      "epoch_number: 2930, current_loss: 5.553991913795471, best_loss: 0.0005050636783242226\n",
      "epoch_number: 2935, current_loss: 5.7003437876701355, best_loss: 0.0005050636783242226\n",
      "epoch_number: 2940, current_loss: 5.505997285246849, best_loss: 0.0005050636783242226\n",
      "epoch_number: 2945, current_loss: 5.415690168738365, best_loss: 0.0005050636783242226\n",
      "epoch_number: 2950, current_loss: 5.466672837734222, best_loss: 0.0005050636783242226\n",
      "epoch_number: 2955, current_loss: 5.499705046415329, best_loss: 0.0005050636783242226\n",
      "epoch_number: 2960, current_loss: 5.474096462130547, best_loss: 0.0005050636783242226\n",
      "epoch_number: 2965, current_loss: 5.40380334854126, best_loss: 0.0005050636783242226\n",
      "epoch_number: 2970, current_loss: 5.3487438559532166, best_loss: 0.0005050636783242226\n",
      "epoch_number: 2975, current_loss: 5.62426233291626, best_loss: 0.0005050636783242226\n",
      "epoch_number: 2980, current_loss: 5.39999133348465, best_loss: 0.0005050636783242226\n",
      "epoch_number: 2985, current_loss: 5.632015809416771, best_loss: 0.0005050636783242226\n",
      "epoch_number: 2990, current_loss: 5.504838094115257, best_loss: 0.0005050636783242226\n",
      "epoch_number: 2995, current_loss: 5.464940711855888, best_loss: 0.0005050636783242226\n"
     ]
    }
   ],
   "source": [
    "lr = 1e-4\n",
    "optimizer = Adam(score_model_U.parameters(), lr=lr)\n",
    "\n",
    "n_epochs = 3000\n",
    "tqdm_epoch = tqdm.notebook.trange(n_epochs)\n",
    "loss_list = []\n",
    "\n",
    "epoch_number = 0\n",
    "best_loss = 1000000\n",
    "\n",
    "for epoch in tqdm_epoch:\n",
    "    loss_train = 0\n",
    "    epoch_numeber = 0.\n",
    "    \n",
    "    for xt in x_train:\n",
    "        loss = loss_fn(model=score_model_U, x=xt, marginal_prob_std=marginal_prob_std_fn)\n",
    "        loss_train += loss.item()\n",
    "        \n",
    "        optimizer.zero_grad()\n",
    "        loss.backward()\n",
    "        optimizer.step()\n",
    "    \n",
    "    if epoch_number  % 5 ==0:\n",
    "        print('epoch_number: {}, current_loss: {}, best_loss: {}'.format(epoch_number, loss_train, best_loss))\n",
    "        \n",
    "    if loss_train/(x_train.shape[0]*x_train.shape[1]) < best_loss:\n",
    "        best_loss = loss_train/(x_train.shape[0]*x_train.shape[1])\n",
    "        model_path = 'uncon_u\\\\model_{}.pth'.format(epoch_number)\n",
    "        torch.save(score_model_U.state_dict(), model_path)\n",
    "        \n",
    "    loss_list.append(loss_train)\n",
    "    epoch_number += 1"
   ]
  },
  {
   "cell_type": "code",
   "execution_count": 20,
   "id": "cb102ab5",
   "metadata": {},
   "outputs": [
    {
     "data": {
      "text/plain": [
       "<All keys matched successfully>"
      ]
     },
     "execution_count": 20,
     "metadata": {},
     "output_type": "execute_result"
    }
   ],
   "source": [
    "score_model_U.load_state_dict(torch.load('uncon_u\\\\model_1384.pth'))"
   ]
  },
  {
   "cell_type": "code",
   "execution_count": 21,
   "id": "a9ebdc5a",
   "metadata": {},
   "outputs": [
    {
     "name": "stderr",
     "output_type": "stream",
     "text": [
      "C:\\Users\\dedaoyan\\AppData\\Local\\Temp\\ipykernel_6836\\1117097296.py:3: UserWarning: To copy construct from a tensor, it is recommended to use sourceTensor.clone().detach() or sourceTensor.clone().detach().requires_grad_(True), rather than torch.tensor(sourceTensor).\n",
      "  t = torch.tensor(t, device = device)\n"
     ]
    },
    {
     "data": {
      "application/vnd.jupyter.widget-view+json": {
       "model_id": "312d380a962c4f09bfd0f7582bd53602",
       "version_major": 2,
       "version_minor": 0
      },
      "text/plain": [
       "  0%|          | 0/10000 [00:00<?, ?it/s]"
      ]
     },
     "metadata": {},
     "output_type": "display_data"
    },
    {
     "name": "stderr",
     "output_type": "stream",
     "text": [
      "C:\\Users\\dedaoyan\\AppData\\Local\\Temp\\ipykernel_6836\\4062452966.py:2: UserWarning: To copy construct from a tensor, it is recommended to use sourceTensor.clone().detach() or sourceTensor.clone().detach().requires_grad_(True), rather than torch.tensor(sourceTensor).\n",
      "  return torch.tensor(sigma**t, device = device)\n"
     ]
    }
   ],
   "source": [
    "x_u_em = Euler_Maruyama_sampler(score_model_U, 500, marginal_prob_std_fn, diffusion_coeff_fn, num_steps=10000, eps=1e-3)"
   ]
  },
  {
   "cell_type": "code",
   "execution_count": 30,
   "id": "01a9ea7d",
   "metadata": {},
   "outputs": [
    {
     "data": {
      "text/plain": [
       "<function matplotlib.pyplot.show(close=None, block=None)>"
      ]
     },
     "execution_count": 30,
     "metadata": {},
     "output_type": "execute_result"
    },
    {
     "data": {
      "image/png": "[encoded data removed]",
      "text/plain": [
       "<Figure size 432x288 with 1 Axes>"
      ]
     },
     "metadata": {
      "needs_background": "light"
     },
     "output_type": "display_data"
    }
   ],
   "source": [
    "x_u_em_data = torch.reshape(x_u_em,(500,1)).cpu().numpy()\n",
    "df = pd.DataFrame(x_u_em_data)\n",
    "df.plot.density()\n",
    "plt.show"
   ]
  },
  {
   "cell_type": "code",
   "execution_count": 39,
   "id": "46ff252c",
   "metadata": {},
   "outputs": [
    {
     "data": {
      "text/plain": [
       "-0.046991393"
      ]
     },
     "execution_count": 39,
     "metadata": {},
     "output_type": "execute_result"
    }
   ],
   "source": [
    "np.mean(x_u_em_data)"
   ]
  },
  {
   "cell_type": "code",
   "execution_count": 40,
   "id": "2f3af33a",
   "metadata": {},
   "outputs": [
    {
     "data": {
      "text/plain": [
       "1.0812037"
      ]
     },
     "execution_count": 40,
     "metadata": {},
     "output_type": "execute_result"
    }
   ],
   "source": [
    "np.var(x_u_em_data)"
   ]
  },
  {
   "cell_type": "code",
   "execution_count": 22,
   "id": "9ff91faa",
   "metadata": {},
   "outputs": [
    {
     "name": "stderr",
     "output_type": "stream",
     "text": [
      "C:\\Users\\dedaoyan\\AppData\\Local\\Temp\\ipykernel_6836\\1117097296.py:3: UserWarning: To copy construct from a tensor, it is recommended to use sourceTensor.clone().detach() or sourceTensor.clone().detach().requires_grad_(True), rather than torch.tensor(sourceTensor).\n",
      "  t = torch.tensor(t, device = device)\n"
     ]
    },
    {
     "data": {
      "application/vnd.jupyter.widget-view+json": {
       "model_id": "cda63694953a48339367ce0316f03cec",
       "version_major": 2,
       "version_minor": 0
      },
      "text/plain": [
       "  0%|          | 0/10000 [00:00<?, ?it/s]"
      ]
     },
     "metadata": {},
     "output_type": "display_data"
    },
    {
     "name": "stderr",
     "output_type": "stream",
     "text": [
      "C:\\Users\\dedaoyan\\AppData\\Local\\Temp\\ipykernel_6836\\4062452966.py:2: UserWarning: To copy construct from a tensor, it is recommended to use sourceTensor.clone().detach() or sourceTensor.clone().detach().requires_grad_(True), rather than torch.tensor(sourceTensor).\n",
      "  return torch.tensor(sigma**t, device = device)\n"
     ]
    }
   ],
   "source": [
    "x_u_pc= Predictor_Corrector_sampler(score_model_U, 500, marginal_prob_std_fn, diffusion_coeff_fn, 10000, eplsion=1e-2, eps=1e-3)"
   ]
  },
  {
   "cell_type": "code",
   "execution_count": 31,
   "id": "85b9c1c7",
   "metadata": {},
   "outputs": [
    {
     "data": {
      "text/plain": [
       "<function matplotlib.pyplot.show(close=None, block=None)>"
      ]
     },
     "execution_count": 31,
     "metadata": {},
     "output_type": "execute_result"
    },
    {
     "data": {
      "image/png": "[encoded data removed]",
      "text/plain": [
       "<Figure size 432x288 with 1 Axes>"
      ]
     },
     "metadata": {
      "needs_background": "light"
     },
     "output_type": "display_data"
    }
   ],
   "source": [
    "x_u_pc_data = torch.reshape(x_u_pc,(500,1)).cpu().numpy()\n",
    "df = pd.DataFrame(x_u_pc_data)\n",
    "df.plot.density()\n",
    "plt.show"
   ]
  },
  {
   "cell_type": "code",
   "execution_count": 44,
   "id": "76168523",
   "metadata": {},
   "outputs": [
    {
     "data": {
      "text/plain": [
       "-0.26009253"
      ]
     },
     "execution_count": 44,
     "metadata": {},
     "output_type": "execute_result"
    }
   ],
   "source": [
    "np.mean(x_u_pc_data)"
   ]
  },
  {
   "cell_type": "code",
   "execution_count": 45,
   "id": "528ebbd0",
   "metadata": {},
   "outputs": [
    {
     "data": {
      "text/plain": [
       "0.88815606"
      ]
     },
     "execution_count": 45,
     "metadata": {},
     "output_type": "execute_result"
    }
   ],
   "source": [
    "np.var(x_u_pc_data)"
   ]
  },
  {
   "cell_type": "code",
   "execution_count": null,
   "id": "4a58509f",
   "metadata": {},
   "outputs": [],
   "source": [
    "red = pygame.Color(\"#CC79A7\")\n",
    "orange =  pygame.Color(\"#E69F00\")\n",
    "blue =  pygame.Color()"
   ]
  },
  {
   "cell_type": "code",
   "execution_count": 43,
   "id": "a4fd9fd2",
   "metadata": {},
   "outputs": [
    {
     "data": {
      "text/plain": [
       "Text(0.5, 1.0, 'score based model for N(0,1) with mlp')"
      ]
     },
     "execution_count": 43,
     "metadata": {},
     "output_type": "execute_result"
    },
    {
     "data": {
      "text/plain": [
       "<Figure size 6000x4800 with 0 Axes>"
      ]
     },
     "metadata": {},
     "output_type": "display_data"
    },
    {
     "data": {
      "image/png": "[encoded data removed]",
      "text/plain": [
       "<Figure size 432x288 with 1 Axes>"
      ]
     },
     "metadata": {
      "needs_background": "light"
     },
     "output_type": "display_data"
    }
   ],
   "source": [
    "df1 = pd.DataFrame({'x_true': torch.randn(500).cpu().numpy()})\n",
    "df1['EM sampler'] = x_mlp_em_data\n",
    "df1['PC sampler'] = x_mlp_pc_data\n",
    "fig = plt.figure(figsize=(10,8),dpi=600)\n",
    "df1.plot.density(color=[\"#CC79A7\",\"#E69F00\",\"#56B4E9\"])\n",
    "plt.xlabel('x')\n",
    "plt.title('score based model for N(0,1) with mlp')"
   ]
  },
  {
   "cell_type": "code",
   "execution_count": 46,
   "id": "a479500b",
   "metadata": {},
   "outputs": [],
   "source": []
  },
  {
   "cell_type": "code",
   "execution_count": 40,
   "id": "33f19883",
   "metadata": {},
   "outputs": [
    {
     "data": {
      "text/plain": [
       "Text(0.5, 1.0, 'score based model for N(0,1) with U-net')"
      ]
     },
     "execution_count": 40,
     "metadata": {},
     "output_type": "execute_result"
    },
    {
     "data": {
      "image/png": "[encoded data removed]",
      "text/plain": [
       "<Figure size 432x288 with 1 Axes>"
      ]
     },
     "metadata": {
      "needs_background": "light"
     },
     "output_type": "display_data"
    }
   ],
   "source": [
    "df2 = pd.DataFrame({'x_true': torch.randn(500).cpu().numpy()})\n",
    "df2['EM sampler'] = x_u_em_data\n",
    "df2['PC sampler'] = x_u_pc_data\n",
    "df2.plot.density(color=[\"#CC79A7\",\"#E69F00\",\"#56B4E9\"])\n",
    "plt.title('score based model for N(0,1) with U-net')"
   ]
  },
  {
   "cell_type": "code",
   "execution_count": 47,
   "id": "3e1003d1",
   "metadata": {},
   "outputs": [],
   "source": [
    "df2.to_csv(\"C:\\\\Users\\\\dedaoyan\\\\Desktop\\\\df2.csv\", sep='\\t')"
   ]
  },
  {
   "cell_type": "code",
   "execution_count": 71,
   "id": "fcf592bf",
   "metadata": {},
   "outputs": [
    {
     "data": {
      "image/png": "[encoded data removed]",
      "text/plain": [
       "<Figure size 432x288 with 2 Axes>"
      ]
     },
     "metadata": {
      "needs_background": "light"
     },
     "output_type": "display_data"
    }
   ],
   "source": [
    "fig, axes = plt.subplots(1, 2)\n",
    "\n",
    "df1.plot.density(ax=axes[0])\n",
    "df2.plot.density(ax=axes[1])\n",
    "\n",
    "plt.show()"
   ]
  }
 ],
 "metadata": {
  "kernelspec": {
   "display_name": "Python 3 (ipykernel)",
   "language": "python",
   "name": "python3"
  },
  "language_info": {
   "codemirror_mode": {
    "name": "ipython",
    "version": 3
   },
   "file_extension": ".py",
   "mimetype": "text/x-python",
   "name": "python",
   "nbconvert_exporter": "python",
   "pygments_lexer": "ipython3",
   "version": "3.9.12"
  }
 },
 "nbformat": 4,
 "nbformat_minor": 5
}
